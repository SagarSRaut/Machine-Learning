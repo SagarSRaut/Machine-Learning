{
 "cells": [
  {
   "cell_type": "code",
   "execution_count": 8,
   "id": "be45f1a7-9440-4da3-8d77-3fa82fe20dd2",
   "metadata": {},
   "outputs": [],
   "source": [
    "import pandas as pd\n",
    "import numpy as np\n",
    "from sklearn.model_selection import train_test_split \n",
    "from sklearn.metrics import confusion_matrix, classification_report\n",
    "from sklearn.metrics import accuracy_score, r2_score\n",
    "from sklearn.naive_bayes import GaussianNB\n",
    "from sklearn.preprocessing import LabelEncoder\n",
    "from sklearn.model_selection import StratifiedKFold, cross_val_score\n",
    "from sklearn.model_selection import train_test_split,GridSearchCV\n",
    "from sklearn.linear_model import LinearRegression, Ridge,ElasticNet\n",
    "from sklearn.model_selection import KFold"
   ]
  },
  {
   "cell_type": "code",
   "execution_count": 12,
   "id": "8b98a7eb-2afb-435b-983a-313b47dec527",
   "metadata": {},
   "outputs": [
    {
     "name": "stdout",
     "output_type": "stream",
     "text": [
      "<class 'pandas.core.frame.DataFrame'>\n",
      "RangeIndex: 1030 entries, 0 to 1029\n",
      "Data columns (total 9 columns):\n",
      " #   Column            Non-Null Count  Dtype  \n",
      "---  ------            --------------  -----  \n",
      " 0   Cement            1030 non-null   float64\n",
      " 1   Blast             1030 non-null   float64\n",
      " 2   Fly               1030 non-null   float64\n",
      " 3   Water             1030 non-null   float64\n",
      " 4   Superplasticizer  1030 non-null   float64\n",
      " 5   Coarse            1030 non-null   float64\n",
      " 6   Fine              1030 non-null   float64\n",
      " 7   Age               1030 non-null   int64  \n",
      " 8   Strength          1030 non-null   float64\n",
      "dtypes: float64(8), int64(1)\n",
      "memory usage: 72.6 KB\n",
      "None\n"
     ]
    }
   ],
   "source": [
    "concrete = pd.read_csv(r'C:\\Users\\Administrator.DAI-PC2\\Desktop\\jupiter_demo\\ML\\Cases-20240426T111123Z-001\\Cases\\Concrete Strength\\Concrete_Data.csv')\n",
    "concrete.head()\n",
    "\n",
    "print(concrete.info())"
   ]
  },
  {
   "cell_type": "code",
   "execution_count": 13,
   "id": "032bb23c-9fd8-4581-bbe8-4333c5f1b210",
   "metadata": {},
   "outputs": [
    {
     "name": "stdout",
     "output_type": "stream",
     "text": [
      "[79.99 61.89 40.27 ... 23.7  32.77 32.4 ]\n"
     ]
    }
   ],
   "source": [
    "X = concrete.iloc[:,:-1].values  #take all the columns upto the salary column\n",
    "y = concrete.iloc[:,-1].values  #take the first column\n",
    "print(y)"
   ]
  },
  {
   "cell_type": "code",
   "execution_count": 14,
   "id": "727b1b74-4560-4915-8291-40f4c8eda4aa",
   "metadata": {},
   "outputs": [],
   "source": [
    "X_train,X_test,y_train,y_test = train_test_split(X,y,test_size=0.3,random_state=24)"
   ]
  },
  {
   "cell_type": "code",
   "execution_count": 15,
   "id": "c9d039c5-f50d-4a4a-a40b-71796d1b1a4a",
   "metadata": {},
   "outputs": [
    {
     "name": "stdout",
     "output_type": "stream",
     "text": [
      "{'alpha': 1.0, 'copy_X': True, 'fit_intercept': True, 'l1_ratio': 0.5, 'max_iter': 1000, 'positive': False, 'precompute': False, 'random_state': None, 'selection': 'cyclic', 'tol': 0.0001, 'warm_start': False}\n",
      "{'alpha': 37.50025, 'l1_ratio': 0.001}\n",
      "0.4822677614449947\n"
     ]
    }
   ],
   "source": [
    "elastic=ElasticNet()\n",
    "print(elastic.get_params())\n",
    "params={'alpha':np.linspace(0.001,50,5),'l1_ratio': np.linspace(0.001,1,10)}\n",
    "\n",
    "kfold = KFold()\n",
    "                                                        \n",
    "gcv=GridSearchCV(elastic,param_grid=params,cv=kfold,scoring='r2')\n",
    "gcv.fit(X,y)\n",
    "pd_cv= pd.DataFrame(gcv.cv_results_)\n",
    "print(gcv.best_params_)\n",
    "print(gcv.best_score_)"
   ]
  },
  {
   "cell_type": "code",
   "execution_count": null,
   "id": "b7096b92-b36b-4d07-a9f6-7107fe114e8c",
   "metadata": {},
   "outputs": [],
   "source": []
  },
  {
   "cell_type": "code",
   "execution_count": null,
   "id": "297b07c6-2f0c-4914-9566-2f05fb76c453",
   "metadata": {},
   "outputs": [],
   "source": []
  },
  {
   "cell_type": "code",
   "execution_count": null,
   "id": "d698fa00-d865-4f35-a9e4-3759cd87716a",
   "metadata": {},
   "outputs": [],
   "source": []
  }
 ],
 "metadata": {
  "kernelspec": {
   "display_name": "Python 3 (ipykernel)",
   "language": "python",
   "name": "python3"
  },
  "language_info": {
   "codemirror_mode": {
    "name": "ipython",
    "version": 3
   },
   "file_extension": ".py",
   "mimetype": "text/x-python",
   "name": "python",
   "nbconvert_exporter": "python",
   "pygments_lexer": "ipython3",
   "version": "3.11.8"
  }
 },
 "nbformat": 4,
 "nbformat_minor": 5
}

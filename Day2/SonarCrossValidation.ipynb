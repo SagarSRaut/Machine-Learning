{
 "cells": [
  {
   "cell_type": "code",
   "execution_count": 5,
   "id": "7a2bf020-6c30-4e8a-bbe6-965014c0b03c",
   "metadata": {},
   "outputs": [
    {
     "name": "stdout",
     "output_type": "stream",
     "text": [
      "['M' 'R']\n",
      "0.678397212543554\n",
      "0.7780684418556272\n"
     ]
    }
   ],
   "source": [
    "## Gaussian ##\n",
    "\n",
    "import pandas as pd\n",
    "from sklearn.model_selection import train_test_split \n",
    "from sklearn.metrics import confusion_matrix, classification_report\n",
    "from sklearn.metrics import accuracy_score\n",
    "from sklearn.naive_bayes import GaussianNB\n",
    "from sklearn.preprocessing import LabelEncoder\n",
    "from sklearn.model_selection import StratifiedKFold, cross_val_score\n",
    "\n",
    "sonar = pd.read_csv(r\"C:\\Users\\Administrator.DAI-PC2\\Desktop\\jupiter_demo\\ML\\Cases-20240426T111123Z-001\\Cases\\Sonar\\Sonar.csv\")\n",
    "le=LabelEncoder()\n",
    "\n",
    "\n",
    "y=le.fit_transform(sonar['Class']) \n",
    "X= sonar.drop('Class',axis=1)\n",
    "print(le.classes_)\n",
    "gaussian=GaussianNB()\n",
    "\n",
    "kfold=StratifiedKFold(n_splits=5,shuffle=True,random_state=24)\n",
    "\n",
    "#scoring by accuracy\n",
    "results= cross_val_score(gaussian,X,y,cv=kfold)\n",
    "print(results.mean())\n",
    "# scoring by ROC AUC\n",
    "results= cross_val_score(gaussian,X,y,cv=kfold,scoring='roc_auc')\n",
    "print(results.mean())"
   ]
  },
  {
   "cell_type": "code",
   "execution_count": 7,
   "id": "5da8f47d-f223-46d4-aecf-cdd38e5c852f",
   "metadata": {},
   "outputs": [
    {
     "name": "stdout",
     "output_type": "stream",
     "text": [
      "['M' 'R']\n",
      "0.7837398373983738\n",
      "0.8368660287081339\n"
     ]
    }
   ],
   "source": [
    "##Logistic Regression##\n",
    "\n",
    "import pandas as pd\n",
    "from sklearn.model_selection import train_test_split \n",
    "from sklearn.metrics import confusion_matrix, classification_report\n",
    "from sklearn.metrics import accuracy_score\n",
    "from sklearn.naive_bayes import GaussianNB\n",
    "from sklearn.preprocessing import LabelEncoder\n",
    "from sklearn.model_selection import StratifiedKFold, cross_val_score\n",
    "from sklearn.linear_model import LogisticRegression\n",
    "\n",
    "sonar = pd.read_csv(r\"C:\\Users\\Administrator.DAI-PC2\\Desktop\\jupiter_demo\\ML\\Cases-20240426T111123Z-001\\Cases\\Sonar\\Sonar.csv\")\n",
    "le=LabelEncoder()\n",
    "\n",
    "\n",
    "y=le.fit_transform(sonar['Class']) \n",
    "X= sonar.drop('Class',axis=1)\n",
    "print(le.classes_)\n",
    "lr=LogisticRegression()\n",
    "\n",
    "kfold=StratifiedKFold(n_splits=5,shuffle=True,random_state=24)\n",
    "\n",
    "#scoring by accuracy\n",
    "results= cross_val_score(lr,X,y,cv=kfold)\n",
    "print(results.mean())\n",
    "# scoring by ROC AUC\n",
    "results= cross_val_score(lr,X,y,cv=kfold,scoring='roc_auc')\n",
    "print(results.mean())"
   ]
  },
  {
   "cell_type": "code",
   "execution_count": null,
   "id": "e6c92b93-5cae-4305-8ab0-6b5279bd0bd8",
   "metadata": {},
   "outputs": [],
   "source": []
  },
  {
   "cell_type": "code",
   "execution_count": null,
   "id": "e690bbe8-2ea0-4041-87d2-cc073e67c7d5",
   "metadata": {},
   "outputs": [],
   "source": []
  }
 ],
 "metadata": {
  "kernelspec": {
   "display_name": "Python 3 (ipykernel)",
   "language": "python",
   "name": "python3"
  },
  "language_info": {
   "codemirror_mode": {
    "name": "ipython",
    "version": 3
   },
   "file_extension": ".py",
   "mimetype": "text/x-python",
   "name": "python",
   "nbconvert_exporter": "python",
   "pygments_lexer": "ipython3",
   "version": "3.11.8"
  }
 },
 "nbformat": 4,
 "nbformat_minor": 5
}

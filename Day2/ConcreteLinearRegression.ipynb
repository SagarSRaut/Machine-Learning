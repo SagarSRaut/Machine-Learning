{
 "cells": [
  {
   "cell_type": "code",
   "execution_count": 21,
   "id": "cea3acda-a617-4311-b74c-9fcc9816d4d0",
   "metadata": {},
   "outputs": [],
   "source": [
    "import pandas as pd\n",
    "from sklearn.model_selection import train_test_split \n",
    "from sklearn.metrics import confusion_matrix, classification_report\n",
    "from sklearn.metrics import accuracy_score, r2_score\n",
    "from sklearn.naive_bayes import GaussianNB\n",
    "from sklearn.preprocessing import LabelEncoder\n",
    "from sklearn.model_selection import StratifiedKFold, cross_val_score\n",
    "from sklearn.model_selection import train_test_split\n",
    "from sklearn.linear_model import LinearRegression\n",
    "from sklearn.model_selection import KFold"
   ]
  },
  {
   "cell_type": "code",
   "execution_count": 3,
   "id": "65cd4334-5ff4-4806-ac53-3e7f994ed001",
   "metadata": {},
   "outputs": [
    {
     "data": {
      "text/html": [
       "<div>\n",
       "<style scoped>\n",
       "    .dataframe tbody tr th:only-of-type {\n",
       "        vertical-align: middle;\n",
       "    }\n",
       "\n",
       "    .dataframe tbody tr th {\n",
       "        vertical-align: top;\n",
       "    }\n",
       "\n",
       "    .dataframe thead th {\n",
       "        text-align: right;\n",
       "    }\n",
       "</style>\n",
       "<table border=\"1\" class=\"dataframe\">\n",
       "  <thead>\n",
       "    <tr style=\"text-align: right;\">\n",
       "      <th></th>\n",
       "      <th>Cement</th>\n",
       "      <th>Blast</th>\n",
       "      <th>Fly</th>\n",
       "      <th>Water</th>\n",
       "      <th>Superplasticizer</th>\n",
       "      <th>Coarse</th>\n",
       "      <th>Fine</th>\n",
       "      <th>Age</th>\n",
       "      <th>Strength</th>\n",
       "    </tr>\n",
       "  </thead>\n",
       "  <tbody>\n",
       "    <tr>\n",
       "      <th>0</th>\n",
       "      <td>540.0</td>\n",
       "      <td>0.0</td>\n",
       "      <td>0.0</td>\n",
       "      <td>162.0</td>\n",
       "      <td>2.5</td>\n",
       "      <td>1040.0</td>\n",
       "      <td>676.0</td>\n",
       "      <td>28</td>\n",
       "      <td>79.99</td>\n",
       "    </tr>\n",
       "    <tr>\n",
       "      <th>1</th>\n",
       "      <td>540.0</td>\n",
       "      <td>0.0</td>\n",
       "      <td>0.0</td>\n",
       "      <td>162.0</td>\n",
       "      <td>2.5</td>\n",
       "      <td>1055.0</td>\n",
       "      <td>676.0</td>\n",
       "      <td>28</td>\n",
       "      <td>61.89</td>\n",
       "    </tr>\n",
       "    <tr>\n",
       "      <th>2</th>\n",
       "      <td>332.5</td>\n",
       "      <td>142.5</td>\n",
       "      <td>0.0</td>\n",
       "      <td>228.0</td>\n",
       "      <td>0.0</td>\n",
       "      <td>932.0</td>\n",
       "      <td>594.0</td>\n",
       "      <td>270</td>\n",
       "      <td>40.27</td>\n",
       "    </tr>\n",
       "    <tr>\n",
       "      <th>3</th>\n",
       "      <td>332.5</td>\n",
       "      <td>142.5</td>\n",
       "      <td>0.0</td>\n",
       "      <td>228.0</td>\n",
       "      <td>0.0</td>\n",
       "      <td>932.0</td>\n",
       "      <td>594.0</td>\n",
       "      <td>365</td>\n",
       "      <td>41.05</td>\n",
       "    </tr>\n",
       "    <tr>\n",
       "      <th>4</th>\n",
       "      <td>198.6</td>\n",
       "      <td>132.4</td>\n",
       "      <td>0.0</td>\n",
       "      <td>192.0</td>\n",
       "      <td>0.0</td>\n",
       "      <td>978.4</td>\n",
       "      <td>825.5</td>\n",
       "      <td>360</td>\n",
       "      <td>44.30</td>\n",
       "    </tr>\n",
       "  </tbody>\n",
       "</table>\n",
       "</div>"
      ],
      "text/plain": [
       "   Cement  Blast  Fly  Water  Superplasticizer  Coarse   Fine  Age  Strength\n",
       "0   540.0    0.0  0.0  162.0               2.5  1040.0  676.0   28     79.99\n",
       "1   540.0    0.0  0.0  162.0               2.5  1055.0  676.0   28     61.89\n",
       "2   332.5  142.5  0.0  228.0               0.0   932.0  594.0  270     40.27\n",
       "3   332.5  142.5  0.0  228.0               0.0   932.0  594.0  365     41.05\n",
       "4   198.6  132.4  0.0  192.0               0.0   978.4  825.5  360     44.30"
      ]
     },
     "execution_count": 3,
     "metadata": {},
     "output_type": "execute_result"
    }
   ],
   "source": [
    "concrete = pd.read_csv(r'C:\\Users\\Administrator.DAI-PC2\\Desktop\\jupiter_demo\\ML\\Cases-20240426T111123Z-001\\Cases\\Concrete Strength\\Concrete_Data.csv')\n",
    "concrete.head()"
   ]
  },
  {
   "cell_type": "code",
   "execution_count": 6,
   "id": "902a03d8-3772-410c-be05-c358dbf39ac3",
   "metadata": {},
   "outputs": [
    {
     "name": "stdout",
     "output_type": "stream",
     "text": [
      "[79.99 61.89 40.27 ... 23.7  32.77 32.4 ]\n"
     ]
    }
   ],
   "source": [
    "X = concrete.iloc[:,:-1].values  #take all the columns upto the salary column\n",
    "y = concrete.iloc[:,-1].values  #take the first column\n",
    "print(y)"
   ]
  },
  {
   "cell_type": "code",
   "execution_count": 17,
   "id": "38ea0b7a-b324-4753-9066-eb9655dcbe63",
   "metadata": {},
   "outputs": [],
   "source": [
    "X_train,X_test,y_train,y_test = train_test_split(X,y,test_size=0.3,random_state=24)"
   ]
  },
  {
   "cell_type": "code",
   "execution_count": 18,
   "id": "8cb6485d-fe0b-49e2-bdc7-fb1a9715f210",
   "metadata": {},
   "outputs": [
    {
     "data": {
      "text/html": [
       "<style>#sk-container-id-2 {color: black;}#sk-container-id-2 pre{padding: 0;}#sk-container-id-2 div.sk-toggleable {background-color: white;}#sk-container-id-2 label.sk-toggleable__label {cursor: pointer;display: block;width: 100%;margin-bottom: 0;padding: 0.3em;box-sizing: border-box;text-align: center;}#sk-container-id-2 label.sk-toggleable__label-arrow:before {content: \"▸\";float: left;margin-right: 0.25em;color: #696969;}#sk-container-id-2 label.sk-toggleable__label-arrow:hover:before {color: black;}#sk-container-id-2 div.sk-estimator:hover label.sk-toggleable__label-arrow:before {color: black;}#sk-container-id-2 div.sk-toggleable__content {max-height: 0;max-width: 0;overflow: hidden;text-align: left;background-color: #f0f8ff;}#sk-container-id-2 div.sk-toggleable__content pre {margin: 0.2em;color: black;border-radius: 0.25em;background-color: #f0f8ff;}#sk-container-id-2 input.sk-toggleable__control:checked~div.sk-toggleable__content {max-height: 200px;max-width: 100%;overflow: auto;}#sk-container-id-2 input.sk-toggleable__control:checked~label.sk-toggleable__label-arrow:before {content: \"▾\";}#sk-container-id-2 div.sk-estimator input.sk-toggleable__control:checked~label.sk-toggleable__label {background-color: #d4ebff;}#sk-container-id-2 div.sk-label input.sk-toggleable__control:checked~label.sk-toggleable__label {background-color: #d4ebff;}#sk-container-id-2 input.sk-hidden--visually {border: 0;clip: rect(1px 1px 1px 1px);clip: rect(1px, 1px, 1px, 1px);height: 1px;margin: -1px;overflow: hidden;padding: 0;position: absolute;width: 1px;}#sk-container-id-2 div.sk-estimator {font-family: monospace;background-color: #f0f8ff;border: 1px dotted black;border-radius: 0.25em;box-sizing: border-box;margin-bottom: 0.5em;}#sk-container-id-2 div.sk-estimator:hover {background-color: #d4ebff;}#sk-container-id-2 div.sk-parallel-item::after {content: \"\";width: 100%;border-bottom: 1px solid gray;flex-grow: 1;}#sk-container-id-2 div.sk-label:hover label.sk-toggleable__label {background-color: #d4ebff;}#sk-container-id-2 div.sk-serial::before {content: \"\";position: absolute;border-left: 1px solid gray;box-sizing: border-box;top: 0;bottom: 0;left: 50%;z-index: 0;}#sk-container-id-2 div.sk-serial {display: flex;flex-direction: column;align-items: center;background-color: white;padding-right: 0.2em;padding-left: 0.2em;position: relative;}#sk-container-id-2 div.sk-item {position: relative;z-index: 1;}#sk-container-id-2 div.sk-parallel {display: flex;align-items: stretch;justify-content: center;background-color: white;position: relative;}#sk-container-id-2 div.sk-item::before, #sk-container-id-2 div.sk-parallel-item::before {content: \"\";position: absolute;border-left: 1px solid gray;box-sizing: border-box;top: 0;bottom: 0;left: 50%;z-index: -1;}#sk-container-id-2 div.sk-parallel-item {display: flex;flex-direction: column;z-index: 1;position: relative;background-color: white;}#sk-container-id-2 div.sk-parallel-item:first-child::after {align-self: flex-end;width: 50%;}#sk-container-id-2 div.sk-parallel-item:last-child::after {align-self: flex-start;width: 50%;}#sk-container-id-2 div.sk-parallel-item:only-child::after {width: 0;}#sk-container-id-2 div.sk-dashed-wrapped {border: 1px dashed gray;margin: 0 0.4em 0.5em 0.4em;box-sizing: border-box;padding-bottom: 0.4em;background-color: white;}#sk-container-id-2 div.sk-label label {font-family: monospace;font-weight: bold;display: inline-block;line-height: 1.2em;}#sk-container-id-2 div.sk-label-container {text-align: center;}#sk-container-id-2 div.sk-container {/* jupyter's `normalize.less` sets `[hidden] { display: none; }` but bootstrap.min.css set `[hidden] { display: none !important; }` so we also need the `!important` here to be able to override the default hidden behavior on the sphinx rendered scikit-learn.org. See: https://github.com/scikit-learn/scikit-learn/issues/21755 */display: inline-block !important;position: relative;}#sk-container-id-2 div.sk-text-repr-fallback {display: none;}</style><div id=\"sk-container-id-2\" class=\"sk-top-container\"><div class=\"sk-text-repr-fallback\"><pre>LinearRegression()</pre><b>In a Jupyter environment, please rerun this cell to show the HTML representation or trust the notebook. <br />On GitHub, the HTML representation is unable to render, please try loading this page with nbviewer.org.</b></div><div class=\"sk-container\" hidden><div class=\"sk-item\"><div class=\"sk-estimator sk-toggleable\"><input class=\"sk-toggleable__control sk-hidden--visually\" id=\"sk-estimator-id-2\" type=\"checkbox\" checked><label for=\"sk-estimator-id-2\" class=\"sk-toggleable__label sk-toggleable__label-arrow\">LinearRegression</label><div class=\"sk-toggleable__content\"><pre>LinearRegression()</pre></div></div></div></div></div>"
      ],
      "text/plain": [
       "LinearRegression()"
      ]
     },
     "execution_count": 18,
     "metadata": {},
     "output_type": "execute_result"
    }
   ],
   "source": [
    "regressor = LinearRegression()\n",
    "regressor.fit(X_train,y_train)"
   ]
  },
  {
   "cell_type": "code",
   "execution_count": 19,
   "id": "1152846d-9703-4846-a3f6-b115b4bc5116",
   "metadata": {},
   "outputs": [
    {
     "data": {
      "text/plain": [
       "array([54.47850046, 37.97941266, 23.3895584 , 46.92141674, 18.41184154,\n",
       "       27.20611505, 39.65541213, 59.71186219, 65.43100742, 17.28677446,\n",
       "       19.23480454, 34.01542405, 33.27419883, 23.41190559, 33.796402  ,\n",
       "       21.77434172, 20.34955077, 31.0448961 , 25.44919638, 17.84735321,\n",
       "       33.70166348, 32.38428354, 19.25831983, 28.59809039, 53.95329902,\n",
       "       51.92401628, 30.91408158, 50.89052271, 51.8708808 , 25.96584976,\n",
       "       52.16927923, 40.1812501 , 37.09123912, 50.24796633, 25.8469632 ,\n",
       "       65.83820421, 27.94523602, 61.10376718, 34.21756708, 25.10024621,\n",
       "       50.6640619 , 52.54406322, 54.30019071, 43.00011823, 34.54728425,\n",
       "       17.69422567, 35.66931009, 13.78737363, 70.78177854, 39.69231982,\n",
       "       38.07092366, 30.73112553, 51.13433123, 22.38113249, 51.59405923,\n",
       "       49.11626074, 54.75054605, 29.48553544, 22.72782638, 43.52513442,\n",
       "       32.11121401, 25.43176553, 19.80840039, 34.62888245, 21.83105193,\n",
       "       51.04819099, 33.95752845, 39.07864901, 41.75162634, 32.96355486,\n",
       "       32.53152578, 23.54195943, 46.8598872 , 32.13613789, 22.7193385 ,\n",
       "       27.40812826, 28.89446572, 25.52476397, 37.87906488, 30.87779359,\n",
       "       31.35501514, 15.07847021, 33.47094385, 69.3866006 , 32.92695232,\n",
       "       33.93421957, 51.20327476, 51.38056692, 40.15984211, 21.91473273,\n",
       "       36.72396369, 33.48681368, 42.2256109 , 26.03863516, 60.79327649,\n",
       "       37.28049627, 52.23192179, 53.95329902, 39.89952782, 11.73254025,\n",
       "       34.01155126, 34.93767559, 46.92872156, 32.12332228, 30.62532166,\n",
       "       19.67764999, 25.54983392, 51.15410611, 18.53338601, 21.04757315,\n",
       "       23.66149298, 29.99276689, 28.09126438, 40.11068179, 36.68965537,\n",
       "       21.43106339, 26.87481304, 40.43978545, 43.88235191, 71.47936752,\n",
       "       63.47548657, 43.92223846, 31.18409936, 32.05128093, 31.00068813,\n",
       "       33.38707366, 48.53128292, 31.21261473, 12.69335587, 15.09841462,\n",
       "       31.87489928, 54.4436129 , 27.30081606, 22.9368655 , 36.66057246,\n",
       "       66.2734237 , 23.01676235, 21.92853964, 29.0477247 , 25.58934407,\n",
       "       49.48128691, 35.26030839, 28.78338544, 61.23599548, 23.41437571,\n",
       "       45.77234635, 47.04051745, 34.72938433, 26.06715052, 51.43397207,\n",
       "       26.11469153, 29.217974  , 48.70647586, 33.59779614, 28.69570828,\n",
       "       49.4601177 , 23.64427397, 65.08116332, 47.44613876, 25.24688756,\n",
       "       17.65120231, 51.74187758, 40.59710224, 31.52940584, 28.11776406,\n",
       "       40.29889009, 24.51955945, 24.44583519, 45.16873497, 40.09088192,\n",
       "       50.60794308, 22.11472249, 22.3293758 , 15.74474498, 62.987593  ,\n",
       "       51.2232375 , 37.65987275, 32.70387782, 43.75847137, 34.0930677 ,\n",
       "       32.29528086, 22.10175848, 57.87392237, 58.18085552, 13.48448092,\n",
       "       25.54594504, 28.45115245, 31.62045681, 62.16180921, 54.30019071,\n",
       "       24.68745459, 15.97541646, 61.62179821, 34.32424349, 61.09217741,\n",
       "       44.0893768 , 66.41790247, 30.19547663, 16.87414331, 18.26134975,\n",
       "       19.34200063, 48.59612618, 31.47197774, 57.34665945, 32.28313984,\n",
       "       36.45744499, 38.98710296, 14.27741784, 15.06481084, 29.18463851,\n",
       "       54.79023491, 13.54209024, 38.6988905 , 53.81781952, 23.13011273,\n",
       "       21.50350157, 60.77696892, 28.74900869, 18.55928616, 27.06343608,\n",
       "       34.24372598, 25.4681678 , 27.05522469, 27.10353087, 55.0243687 ,\n",
       "       36.12161183, 11.05634949, 47.98541468, 40.86550246, 26.00947945,\n",
       "       53.39848042, 17.77681867, 23.69406294, 16.81191146, 54.21515423,\n",
       "       60.4148609 , 37.44074506, 25.00960366, 61.44503451, 38.87736932,\n",
       "       49.42869317, 24.34707383, 22.93153373, 43.30913456, 50.21000076,\n",
       "       46.65670928, 41.26622297, 51.8708808 , 28.92126979, 19.03819278,\n",
       "       41.2849635 , 34.07022153, 40.58204507, 30.7476868 , 35.44705986,\n",
       "       36.07425551, 32.89624374, 27.44748412, 51.05805963, 60.90275447,\n",
       "       63.65812328, 26.03987813, 31.58832078, 54.79023491, 23.48949073,\n",
       "       25.73232939, 27.24727032, 31.18094967, 36.19737621, 35.72681884,\n",
       "       61.65673886, 25.3594287 , 30.55305821, 22.36127429, 22.40111033,\n",
       "       26.11598964, 42.40476065, 25.3427903 , 48.91262665, 30.18123151,\n",
       "       17.96249526, 34.02952255, 18.69630065, 48.19827569, 36.89697559,\n",
       "       49.97133112, 16.05721302, 41.86325355, 33.6051647 , 27.44346215,\n",
       "       37.42612914, 38.37967022, 22.16792731, 32.35157925, 48.10608197,\n",
       "       33.76424304, 56.78788634, 45.04589843, 26.68712267, 40.24522478,\n",
       "       20.1466064 , 54.4436129 , 33.52049899, 24.41725465, 24.44981747,\n",
       "       30.90587648, 39.90529835, 57.36296702, 30.82833906])"
      ]
     },
     "execution_count": 19,
     "metadata": {},
     "output_type": "execute_result"
    }
   ],
   "source": [
    "#Make Prediction\n",
    "y_pred = regressor.predict(X_test)\n",
    "y_pred"
   ]
  },
  {
   "cell_type": "code",
   "execution_count": 20,
   "id": "84ca2753-9967-4dfc-94fe-e5e6bcdc49ab",
   "metadata": {},
   "outputs": [
    {
     "name": "stdout",
     "output_type": "stream",
     "text": [
      "0.60660655909424\n"
     ]
    }
   ],
   "source": [
    "lr=LinearRegression()\n",
    "\n",
    "\n",
    "# kfold=StratifiedKFold(n_splits=5,shuffle=True,random_state=24) #ONLY TO BE USED WITH BINARY OR MULTICLASS\n",
    "\n",
    "kfold=KFold(n_splits=5,shuffle=True,random_state=24)\n",
    "\n",
    "#scoring by accuracy\n",
    "results= cross_val_score(lr,X,y,cv=kfold)\n",
    "print(results.mean())\n",
    "# scoring by ROC AUC\n",
    "# results= cross_val_score(lr,X,y,cv=kfold,scoring='roc_auc')\n",
    "# print(results.mean())"
   ]
  },
  {
   "cell_type": "code",
   "execution_count": 23,
   "id": "a5e60313-2541-46e1-a4ef-0e8b8e6aee29",
   "metadata": {},
   "outputs": [
    {
     "data": {
      "text/plain": [
       "0.5771752777048792"
      ]
     },
     "execution_count": 23,
     "metadata": {},
     "output_type": "execute_result"
    }
   ],
   "source": [
    "r2_score(y_test,y_pred)"
   ]
  },
  {
   "cell_type": "code",
   "execution_count": null,
   "id": "e0061524-b441-4c09-b468-a04a3a1c4c54",
   "metadata": {},
   "outputs": [],
   "source": [
    "cross_val_score()"
   ]
  },
  {
   "cell_type": "code",
   "execution_count": null,
   "id": "3387e826-8049-458d-b0e3-6bc9fcd72b23",
   "metadata": {},
   "outputs": [],
   "source": [
    "import seaborn as sns\n",
    "sns.heatmap()"
   ]
  }
 ],
 "metadata": {
  "kernelspec": {
   "display_name": "Python 3 (ipykernel)",
   "language": "python",
   "name": "python3"
  },
  "language_info": {
   "codemirror_mode": {
    "name": "ipython",
    "version": 3
   },
   "file_extension": ".py",
   "mimetype": "text/x-python",
   "name": "python",
   "nbconvert_exporter": "python",
   "pygments_lexer": "ipython3",
   "version": "3.11.8"
  }
 },
 "nbformat": 4,
 "nbformat_minor": 5
}

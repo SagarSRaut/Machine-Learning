{
 "cells": [
  {
   "cell_type": "code",
   "execution_count": 28,
   "id": "a91579a9-f507-4e42-a3d0-43bf8714a06a",
   "metadata": {},
   "outputs": [],
   "source": [
    "import pandas as pd\n",
    "import numpy as np\n",
    "import seaborn as sns\n",
    "import matplotlib.pyplot as plt\n",
    "from sklearn.linear_model import LinearRegression"
   ]
  },
  {
   "cell_type": "code",
   "execution_count": 4,
   "id": "f9758e0e-fe1b-47b8-82b7-39c9e8163a47",
   "metadata": {},
   "outputs": [
    {
     "data": {
      "text/html": [
       "<div>\n",
       "<style scoped>\n",
       "    .dataframe tbody tr th:only-of-type {\n",
       "        vertical-align: middle;\n",
       "    }\n",
       "\n",
       "    .dataframe tbody tr th {\n",
       "        vertical-align: top;\n",
       "    }\n",
       "\n",
       "    .dataframe thead th {\n",
       "        text-align: right;\n",
       "    }\n",
       "</style>\n",
       "<table border=\"1\" class=\"dataframe\">\n",
       "  <thead>\n",
       "    <tr style=\"text-align: right;\">\n",
       "      <th></th>\n",
       "      <th>Promote</th>\n",
       "      <th>Sales</th>\n",
       "    </tr>\n",
       "  </thead>\n",
       "  <tbody>\n",
       "    <tr>\n",
       "      <th>0</th>\n",
       "      <td>23</td>\n",
       "      <td>554</td>\n",
       "    </tr>\n",
       "    <tr>\n",
       "      <th>1</th>\n",
       "      <td>56</td>\n",
       "      <td>1339</td>\n",
       "    </tr>\n",
       "    <tr>\n",
       "      <th>2</th>\n",
       "      <td>34</td>\n",
       "      <td>815</td>\n",
       "    </tr>\n",
       "    <tr>\n",
       "      <th>3</th>\n",
       "      <td>25</td>\n",
       "      <td>609</td>\n",
       "    </tr>\n",
       "    <tr>\n",
       "      <th>4</th>\n",
       "      <td>67</td>\n",
       "      <td>1600</td>\n",
       "    </tr>\n",
       "    <tr>\n",
       "      <th>5</th>\n",
       "      <td>82</td>\n",
       "      <td>2000</td>\n",
       "    </tr>\n",
       "    <tr>\n",
       "      <th>6</th>\n",
       "      <td>46</td>\n",
       "      <td>1000</td>\n",
       "    </tr>\n",
       "    <tr>\n",
       "      <th>7</th>\n",
       "      <td>14</td>\n",
       "      <td>300</td>\n",
       "    </tr>\n",
       "    <tr>\n",
       "      <th>8</th>\n",
       "      <td>6</td>\n",
       "      <td>150</td>\n",
       "    </tr>\n",
       "    <tr>\n",
       "      <th>9</th>\n",
       "      <td>47</td>\n",
       "      <td>1150</td>\n",
       "    </tr>\n",
       "    <tr>\n",
       "      <th>10</th>\n",
       "      <td>52</td>\n",
       "      <td>1200</td>\n",
       "    </tr>\n",
       "    <tr>\n",
       "      <th>11</th>\n",
       "      <td>88</td>\n",
       "      <td>2000</td>\n",
       "    </tr>\n",
       "    <tr>\n",
       "      <th>12</th>\n",
       "      <td>71</td>\n",
       "      <td>1750</td>\n",
       "    </tr>\n",
       "    <tr>\n",
       "      <th>13</th>\n",
       "      <td>78</td>\n",
       "      <td>2000</td>\n",
       "    </tr>\n",
       "    <tr>\n",
       "      <th>14</th>\n",
       "      <td>66</td>\n",
       "      <td>1500</td>\n",
       "    </tr>\n",
       "    <tr>\n",
       "      <th>15</th>\n",
       "      <td>44</td>\n",
       "      <td>1000</td>\n",
       "    </tr>\n",
       "    <tr>\n",
       "      <th>16</th>\n",
       "      <td>68</td>\n",
       "      <td>1600</td>\n",
       "    </tr>\n",
       "    <tr>\n",
       "      <th>17</th>\n",
       "      <td>90</td>\n",
       "      <td>2000</td>\n",
       "    </tr>\n",
       "    <tr>\n",
       "      <th>18</th>\n",
       "      <td>22</td>\n",
       "      <td>550</td>\n",
       "    </tr>\n",
       "  </tbody>\n",
       "</table>\n",
       "</div>"
      ],
      "text/plain": [
       "    Promote  Sales\n",
       "0        23    554\n",
       "1        56   1339\n",
       "2        34    815\n",
       "3        25    609\n",
       "4        67   1600\n",
       "5        82   2000\n",
       "6        46   1000\n",
       "7        14    300\n",
       "8         6    150\n",
       "9        47   1150\n",
       "10       52   1200\n",
       "11       88   2000\n",
       "12       71   1750\n",
       "13       78   2000\n",
       "14       66   1500\n",
       "15       44   1000\n",
       "16       68   1600\n",
       "17       90   2000\n",
       "18       22    550"
      ]
     },
     "execution_count": 4,
     "metadata": {},
     "output_type": "execute_result"
    }
   ],
   "source": [
    "pizza = pd.read_csv(r'C:\\Users\\Administrator.DAI-PC2\\Desktop\\jupiter_demo\\ML\\Datasets-20240429T030248Z-001\\Datasets\\pizza.csv')\n",
    "pizza"
   ]
  },
  {
   "cell_type": "code",
   "execution_count": 24,
   "id": "d2cc0bf7-a76f-4af0-bfc8-8fd157907e47",
   "metadata": {},
   "outputs": [
    {
     "name": "stdout",
     "output_type": "stream",
     "text": [
      "23.506403021550746 5.485865363253652\n"
     ]
    }
   ],
   "source": [
    "#This is the same as using linearRegression()\n",
    "\n",
    "xi = pizza['Promote']\n",
    "yi = pizza['Sales']\n",
    "\n",
    "xbar = xi.mean()\n",
    "ybar = yi.mean()\n",
    "\n",
    "n = pizza.shape[0]\n",
    "\n",
    "m_xi_yi = np.mean(xi*yi)\n",
    "m_xi_2 = np.mean(xi**2)\n",
    "\n",
    "b1 = (m_xi_yi - (xbar*ybar))/(m_xi_2 - (xbar**2))\n",
    "b0 = ybar - (b1*xbar)\n",
    "print(b1,b0)"
   ]
  },
  {
   "cell_type": "code",
   "execution_count": 25,
   "id": "5fa969a2-d4af-4c2e-b4c5-5e6fed4033c1",
   "metadata": {},
   "outputs": [
    {
     "data": {
      "text/html": [
       "<div>\n",
       "<style scoped>\n",
       "    .dataframe tbody tr th:only-of-type {\n",
       "        vertical-align: middle;\n",
       "    }\n",
       "\n",
       "    .dataframe tbody tr th {\n",
       "        vertical-align: top;\n",
       "    }\n",
       "\n",
       "    .dataframe thead th {\n",
       "        text-align: right;\n",
       "    }\n",
       "</style>\n",
       "<table border=\"1\" class=\"dataframe\">\n",
       "  <thead>\n",
       "    <tr style=\"text-align: right;\">\n",
       "      <th></th>\n",
       "      <th>Home</th>\n",
       "      <th>Automobile</th>\n",
       "      <th>Operating_Cost</th>\n",
       "    </tr>\n",
       "    <tr>\n",
       "      <th>Branch</th>\n",
       "      <th></th>\n",
       "      <th></th>\n",
       "      <th></th>\n",
       "    </tr>\n",
       "  </thead>\n",
       "  <tbody>\n",
       "    <tr>\n",
       "      <th>B01</th>\n",
       "      <td>400</td>\n",
       "      <td>1200</td>\n",
       "      <td>124000</td>\n",
       "    </tr>\n",
       "    <tr>\n",
       "      <th>B02</th>\n",
       "      <td>350</td>\n",
       "      <td>360</td>\n",
       "      <td>71000</td>\n",
       "    </tr>\n",
       "    <tr>\n",
       "      <th>B03</th>\n",
       "      <td>600</td>\n",
       "      <td>800</td>\n",
       "      <td>136000</td>\n",
       "    </tr>\n",
       "    <tr>\n",
       "      <th>B04</th>\n",
       "      <td>800</td>\n",
       "      <td>1800</td>\n",
       "      <td>219000</td>\n",
       "    </tr>\n",
       "    <tr>\n",
       "      <th>B05</th>\n",
       "      <td>900</td>\n",
       "      <td>1600</td>\n",
       "      <td>230000</td>\n",
       "    </tr>\n",
       "    <tr>\n",
       "      <th>B06</th>\n",
       "      <td>200</td>\n",
       "      <td>1000</td>\n",
       "      <td>75000</td>\n",
       "    </tr>\n",
       "    <tr>\n",
       "      <th>B07</th>\n",
       "      <td>120</td>\n",
       "      <td>900</td>\n",
       "      <td>56000</td>\n",
       "    </tr>\n",
       "    <tr>\n",
       "      <th>B08</th>\n",
       "      <td>340</td>\n",
       "      <td>1100</td>\n",
       "      <td>110000</td>\n",
       "    </tr>\n",
       "    <tr>\n",
       "      <th>B09</th>\n",
       "      <td>490</td>\n",
       "      <td>900</td>\n",
       "      <td>120000</td>\n",
       "    </tr>\n",
       "    <tr>\n",
       "      <th>B10</th>\n",
       "      <td>700</td>\n",
       "      <td>800</td>\n",
       "      <td>144000</td>\n",
       "    </tr>\n",
       "  </tbody>\n",
       "</table>\n",
       "</div>"
      ],
      "text/plain": [
       "        Home  Automobile  Operating_Cost\n",
       "Branch                                  \n",
       "B01      400        1200          124000\n",
       "B02      350         360           71000\n",
       "B03      600         800          136000\n",
       "B04      800        1800          219000\n",
       "B05      900        1600          230000\n",
       "B06      200        1000           75000\n",
       "B07      120         900           56000\n",
       "B08      340        1100          110000\n",
       "B09      490         900          120000\n",
       "B10      700         800          144000"
      ]
     },
     "execution_count": 25,
     "metadata": {},
     "output_type": "execute_result"
    }
   ],
   "source": [
    "df = pd.read_csv(r'C:\\Users\\Administrator.DAI-PC2\\Desktop\\jupiter_demo\\ML\\Datasets-20240429T030248Z-001\\Datasets\\Insure_auto.csv', index_col=0)\n",
    "df"
   ]
  },
  {
   "cell_type": "code",
   "execution_count": 26,
   "id": "2560b7d1-c155-40dc-a62e-92aefe355f9a",
   "metadata": {},
   "outputs": [
    {
     "data": {
      "text/plain": [
       "(10, 3)"
      ]
     },
     "execution_count": 26,
     "metadata": {},
     "output_type": "execute_result"
    }
   ],
   "source": [
    "df.shape"
   ]
  },
  {
   "cell_type": "code",
   "execution_count": 30,
   "id": "8de2bc43-0a19-4bdf-9b3f-1bbcd04348cc",
   "metadata": {},
   "outputs": [],
   "source": [
    "x1 = df['Home']\n",
    "x2 = df['Automobile']\n",
    "\n",
    "x1i = df['Home'].sum()\n",
    "x2i = df['Automobile'].sum()\n",
    "\n",
    "x1i_sq = (x1**2).sum()\n",
    "x2i_sq = (x2**2).sum() \n",
    "\n",
    "\n",
    "y = df['Operating_Cost']\n",
    "yi = y.sum()\n",
    "\n",
    "x1bar = x1.mean()\n",
    "x2bar = x2.mean()"
   ]
  },
  {
   "cell_type": "code",
   "execution_count": 35,
   "id": "98b7c0de-7df6-431a-b44a-0c7bfa807135",
   "metadata": {},
   "outputs": [],
   "source": [
    "A = np.array([[x1i, x1i_sq,  x2i*x1i], [x2i, x2i*x1i, x2i_sq], [1,  x1bar,   x2bar]])\n",
    "b = np.array([(x1i*yi).sum() , (x2i*yi).sum(), y.mean()])"
   ]
  },
  {
   "cell_type": "code",
   "execution_count": 37,
   "id": "35e07772-d44c-433c-9b6d-9a2c11712a45",
   "metadata": {},
   "outputs": [
    {
     "data": {
      "text/plain": [
       "array([-1.23082000e+05,  2.58258214e+02,  1.19536783e+02])"
      ]
     },
     "execution_count": 37,
     "metadata": {},
     "output_type": "execute_result"
    }
   ],
   "source": [
    "x = np.linalg.solve(A,b)"
   ]
  },
  {
   "cell_type": "code",
   "execution_count": null,
   "id": "5549d82c-ecb9-4e41-8d88-43222a438be7",
   "metadata": {},
   "outputs": [],
   "source": []
  }
 ],
 "metadata": {
  "kernelspec": {
   "display_name": "Python 3 (ipykernel)",
   "language": "python",
   "name": "python3"
  },
  "language_info": {
   "codemirror_mode": {
    "name": "ipython",
    "version": 3
   },
   "file_extension": ".py",
   "mimetype": "text/x-python",
   "name": "python",
   "nbconvert_exporter": "python",
   "pygments_lexer": "ipython3",
   "version": "3.11.8"
  }
 },
 "nbformat": 4,
 "nbformat_minor": 5
}

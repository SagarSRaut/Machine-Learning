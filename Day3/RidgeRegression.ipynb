{
 "cells": [
  {
   "cell_type": "code",
   "execution_count": 7,
   "id": "a5fb83c6-74e0-4172-a630-fa25e764ad68",
   "metadata": {},
   "outputs": [],
   "source": [
    "import pandas as pd\n",
    "from sklearn.model_selection import train_test_split \n",
    "from sklearn.metrics import confusion_matrix, classification_report\n",
    "from sklearn.metrics import accuracy_score, r2_score\n",
    "from sklearn.naive_bayes import GaussianNB\n",
    "from sklearn.preprocessing import LabelEncoder\n",
    "from sklearn.model_selection import StratifiedKFold, cross_val_score\n",
    "from sklearn.model_selection import train_test_split\n",
    "from sklearn.linear_model import LinearRegression, Ridge\n",
    "from sklearn.model_selection import KFold"
   ]
  },
  {
   "cell_type": "code",
   "execution_count": 18,
   "id": "47446bf4-20cc-48fb-8c0e-00ebedbf2ef4",
   "metadata": {},
   "outputs": [
    {
     "name": "stdout",
     "output_type": "stream",
     "text": [
      "<class 'pandas.core.frame.DataFrame'>\n",
      "RangeIndex: 1030 entries, 0 to 1029\n",
      "Data columns (total 9 columns):\n",
      " #   Column            Non-Null Count  Dtype  \n",
      "---  ------            --------------  -----  \n",
      " 0   Cement            1030 non-null   float64\n",
      " 1   Blast             1030 non-null   float64\n",
      " 2   Fly               1030 non-null   float64\n",
      " 3   Water             1030 non-null   float64\n",
      " 4   Superplasticizer  1030 non-null   float64\n",
      " 5   Coarse            1030 non-null   float64\n",
      " 6   Fine              1030 non-null   float64\n",
      " 7   Age               1030 non-null   int64  \n",
      " 8   Strength          1030 non-null   float64\n",
      "dtypes: float64(8), int64(1)\n",
      "memory usage: 72.6 KB\n",
      "None\n"
     ]
    }
   ],
   "source": [
    "concrete = pd.read_csv(r'C:\\Users\\Administrator.DAI-PC2\\Desktop\\jupiter_demo\\ML\\Cases-20240426T111123Z-001\\Cases\\Concrete Strength\\Concrete_Data.csv')\n",
    "concrete.head()\n",
    "\n",
    "print(concrete.info())"
   ]
  },
  {
   "cell_type": "code",
   "execution_count": 3,
   "id": "2755226e-78a2-4e8e-9e16-5756403d2e00",
   "metadata": {},
   "outputs": [
    {
     "name": "stdout",
     "output_type": "stream",
     "text": [
      "[79.99 61.89 40.27 ... 23.7  32.77 32.4 ]\n"
     ]
    }
   ],
   "source": [
    "X = concrete.iloc[:,:-1].values  #take all the columns upto the salary column\n",
    "y = concrete.iloc[:,-1].values  #take the first column\n",
    "print(y)"
   ]
  },
  {
   "cell_type": "code",
   "execution_count": 4,
   "id": "1cd60ebd-4b8b-413e-8029-fed5c12d3f96",
   "metadata": {},
   "outputs": [],
   "source": [
    "X_train,X_test,y_train,y_test = train_test_split(X,y,test_size=0.3,random_state=24)"
   ]
  },
  {
   "cell_type": "code",
   "execution_count": 8,
   "id": "c5de6fde-12d5-4ef5-8f27-fece8a04dc1d",
   "metadata": {},
   "outputs": [
    {
     "data": {
      "text/html": [
       "<style>#sk-container-id-2 {color: black;}#sk-container-id-2 pre{padding: 0;}#sk-container-id-2 div.sk-toggleable {background-color: white;}#sk-container-id-2 label.sk-toggleable__label {cursor: pointer;display: block;width: 100%;margin-bottom: 0;padding: 0.3em;box-sizing: border-box;text-align: center;}#sk-container-id-2 label.sk-toggleable__label-arrow:before {content: \"▸\";float: left;margin-right: 0.25em;color: #696969;}#sk-container-id-2 label.sk-toggleable__label-arrow:hover:before {color: black;}#sk-container-id-2 div.sk-estimator:hover label.sk-toggleable__label-arrow:before {color: black;}#sk-container-id-2 div.sk-toggleable__content {max-height: 0;max-width: 0;overflow: hidden;text-align: left;background-color: #f0f8ff;}#sk-container-id-2 div.sk-toggleable__content pre {margin: 0.2em;color: black;border-radius: 0.25em;background-color: #f0f8ff;}#sk-container-id-2 input.sk-toggleable__control:checked~div.sk-toggleable__content {max-height: 200px;max-width: 100%;overflow: auto;}#sk-container-id-2 input.sk-toggleable__control:checked~label.sk-toggleable__label-arrow:before {content: \"▾\";}#sk-container-id-2 div.sk-estimator input.sk-toggleable__control:checked~label.sk-toggleable__label {background-color: #d4ebff;}#sk-container-id-2 div.sk-label input.sk-toggleable__control:checked~label.sk-toggleable__label {background-color: #d4ebff;}#sk-container-id-2 input.sk-hidden--visually {border: 0;clip: rect(1px 1px 1px 1px);clip: rect(1px, 1px, 1px, 1px);height: 1px;margin: -1px;overflow: hidden;padding: 0;position: absolute;width: 1px;}#sk-container-id-2 div.sk-estimator {font-family: monospace;background-color: #f0f8ff;border: 1px dotted black;border-radius: 0.25em;box-sizing: border-box;margin-bottom: 0.5em;}#sk-container-id-2 div.sk-estimator:hover {background-color: #d4ebff;}#sk-container-id-2 div.sk-parallel-item::after {content: \"\";width: 100%;border-bottom: 1px solid gray;flex-grow: 1;}#sk-container-id-2 div.sk-label:hover label.sk-toggleable__label {background-color: #d4ebff;}#sk-container-id-2 div.sk-serial::before {content: \"\";position: absolute;border-left: 1px solid gray;box-sizing: border-box;top: 0;bottom: 0;left: 50%;z-index: 0;}#sk-container-id-2 div.sk-serial {display: flex;flex-direction: column;align-items: center;background-color: white;padding-right: 0.2em;padding-left: 0.2em;position: relative;}#sk-container-id-2 div.sk-item {position: relative;z-index: 1;}#sk-container-id-2 div.sk-parallel {display: flex;align-items: stretch;justify-content: center;background-color: white;position: relative;}#sk-container-id-2 div.sk-item::before, #sk-container-id-2 div.sk-parallel-item::before {content: \"\";position: absolute;border-left: 1px solid gray;box-sizing: border-box;top: 0;bottom: 0;left: 50%;z-index: -1;}#sk-container-id-2 div.sk-parallel-item {display: flex;flex-direction: column;z-index: 1;position: relative;background-color: white;}#sk-container-id-2 div.sk-parallel-item:first-child::after {align-self: flex-end;width: 50%;}#sk-container-id-2 div.sk-parallel-item:last-child::after {align-self: flex-start;width: 50%;}#sk-container-id-2 div.sk-parallel-item:only-child::after {width: 0;}#sk-container-id-2 div.sk-dashed-wrapped {border: 1px dashed gray;margin: 0 0.4em 0.5em 0.4em;box-sizing: border-box;padding-bottom: 0.4em;background-color: white;}#sk-container-id-2 div.sk-label label {font-family: monospace;font-weight: bold;display: inline-block;line-height: 1.2em;}#sk-container-id-2 div.sk-label-container {text-align: center;}#sk-container-id-2 div.sk-container {/* jupyter's `normalize.less` sets `[hidden] { display: none; }` but bootstrap.min.css set `[hidden] { display: none !important; }` so we also need the `!important` here to be able to override the default hidden behavior on the sphinx rendered scikit-learn.org. See: https://github.com/scikit-learn/scikit-learn/issues/21755 */display: inline-block !important;position: relative;}#sk-container-id-2 div.sk-text-repr-fallback {display: none;}</style><div id=\"sk-container-id-2\" class=\"sk-top-container\"><div class=\"sk-text-repr-fallback\"><pre>Ridge()</pre><b>In a Jupyter environment, please rerun this cell to show the HTML representation or trust the notebook. <br />On GitHub, the HTML representation is unable to render, please try loading this page with nbviewer.org.</b></div><div class=\"sk-container\" hidden><div class=\"sk-item\"><div class=\"sk-estimator sk-toggleable\"><input class=\"sk-toggleable__control sk-hidden--visually\" id=\"sk-estimator-id-2\" type=\"checkbox\" checked><label for=\"sk-estimator-id-2\" class=\"sk-toggleable__label sk-toggleable__label-arrow\">Ridge</label><div class=\"sk-toggleable__content\"><pre>Ridge()</pre></div></div></div></div></div>"
      ],
      "text/plain": [
       "Ridge()"
      ]
     },
     "execution_count": 8,
     "metadata": {},
     "output_type": "execute_result"
    }
   ],
   "source": [
    "regressor = Ridge()\n",
    "regressor.fit(X_train,y_train)"
   ]
  },
  {
   "cell_type": "code",
   "execution_count": 9,
   "id": "a6469fba-86d3-428f-8f67-08f17c145622",
   "metadata": {},
   "outputs": [
    {
     "data": {
      "text/plain": [
       "array([54.47850525, 37.97940953, 23.38952614, 46.92137822, 18.41189069,\n",
       "       27.20610106, 39.65536309, 59.71191637, 65.43105481, 17.28686134,\n",
       "       19.23483392, 34.01530187, 33.27426737, 23.41172992, 33.79637075,\n",
       "       21.77437022, 20.34963719, 31.04495183, 25.44928208, 17.84731748,\n",
       "       33.70164794, 32.38426564, 19.25841088, 28.59813267, 53.95328956,\n",
       "       51.92399073, 30.91414643, 50.89051371, 51.87082963, 25.96578616,\n",
       "       52.16907037, 40.18128444, 37.09123076, 50.24810721, 25.84700716,\n",
       "       65.83825448, 27.9453213 , 61.10361584, 34.21756995, 25.10027734,\n",
       "       50.66406592, 52.54399647, 54.30011015, 43.00008467, 34.54725295,\n",
       "       17.69423821, 35.66929615, 13.78746487, 70.78176513, 39.69228675,\n",
       "       38.0709142 , 30.7311076 , 51.13429951, 22.3811467 , 51.5940108 ,\n",
       "       49.11620335, 54.75034104, 29.48549643, 22.72783589, 43.52512812,\n",
       "       32.11115644, 25.43161435, 19.80841499, 34.62886898, 21.8311426 ,\n",
       "       51.0481963 , 33.95755304, 39.07863544, 41.75161165, 32.96346914,\n",
       "       32.53152844, 23.54199911, 46.85984077, 32.13610232, 22.71940948,\n",
       "       27.40809985, 28.89443531, 25.52476505, 37.87921936, 30.87769362,\n",
       "       31.35496813, 15.0785605 , 33.47095896, 69.38658718, 32.92699329,\n",
       "       33.93421921, 51.20331813, 51.38055784, 40.15996328, 21.91476704,\n",
       "       36.72399142, 33.48687814, 42.22557026, 26.03864014, 60.79319495,\n",
       "       37.28051659, 52.23188459, 53.95328956, 39.89947554, 11.7325844 ,\n",
       "       34.01150733, 34.93766066, 46.92857358, 32.12333759, 30.62531845,\n",
       "       19.67766281, 25.54983615, 51.15411006, 18.53321798, 21.04759156,\n",
       "       23.66148908, 29.99266147, 28.09115561, 40.11061802, 36.68991262,\n",
       "       21.43112655, 26.87485336, 40.43971122, 43.88235688, 71.4793541 ,\n",
       "       63.47518246, 43.92224478, 31.18410357, 32.05117675, 31.00079312,\n",
       "       33.38727484, 48.53123495, 31.21258173, 12.69344891, 15.09841017,\n",
       "       31.87488481, 54.44356134, 27.30079865, 22.93669561, 36.66054486,\n",
       "       66.27305842, 23.01667851, 21.92851234, 29.04777915, 25.58938507,\n",
       "       49.48122062, 35.26019603, 28.78341483, 61.23598381, 23.41419615,\n",
       "       45.77224059, 47.04065803, 34.7293831 , 26.0671183 , 51.4339466 ,\n",
       "       26.11473082, 29.21797228, 48.70658979, 33.597769  , 28.69580357,\n",
       "       49.46008598, 23.64425432, 65.08108115, 47.4461771 , 25.24697633,\n",
       "       17.65129221, 51.74184045, 40.59714311, 31.52931405, 28.11778747,\n",
       "       40.29893289, 24.51965992, 24.44592483, 45.16885309, 40.09085381,\n",
       "       50.60807761, 22.1147468 , 22.32938981, 15.7448169 , 62.98738281,\n",
       "       51.22336616, 37.65993024, 32.70391858, 43.75845511, 34.09294611,\n",
       "       32.295207  , 22.10181532, 57.8738703 , 58.18064999, 13.48446837,\n",
       "       25.54594852, 28.45115339, 31.62051087, 62.16175649, 54.30011015,\n",
       "       24.68747852, 15.97547721, 61.62176184, 34.32433162, 61.09201553,\n",
       "       44.08940641, 66.41769177, 30.1954786 , 16.87402962, 18.26135233,\n",
       "       19.34203532, 48.59619068, 31.47204374, 57.34658343, 32.28316263,\n",
       "       36.4575203 , 38.98710232, 14.27750901, 15.06483757, 29.18469741,\n",
       "       54.79015429, 13.54207909, 38.69892091, 53.81794334, 23.13013971,\n",
       "       21.50370454, 60.77689238, 28.74903847, 18.55929686, 27.06347084,\n",
       "       34.24372504, 25.46824781, 27.05514077, 27.10353202, 55.02431975,\n",
       "       36.1215931 , 11.05634414, 47.98542044, 40.865364  , 26.00950146,\n",
       "       53.39878318, 17.77690547, 23.69398651, 16.81179379, 54.21515669,\n",
       "       60.4146511 , 37.44067043, 25.00970406, 61.44503692, 38.87735044,\n",
       "       49.42876191, 24.34710194, 22.93155998, 43.30915569, 50.20999075,\n",
       "       46.65667883, 41.26619333, 51.87082963, 28.92125554, 19.03825306,\n",
       "       41.28493019, 34.0702823 , 40.58216353, 30.74759353, 35.44704149,\n",
       "       36.07437689, 32.89625172, 27.44738467, 51.05805164, 60.90245075,\n",
       "       63.65817293, 26.03988028, 31.58831357, 54.79015429, 23.48951787,\n",
       "       25.73223019, 27.2473321 , 31.18094919, 36.19726917, 35.72682778,\n",
       "       61.65670539, 25.35940879, 30.55300511, 22.36136156, 22.40110876,\n",
       "       26.11596895, 42.40474359, 25.34281841, 48.912624  , 30.18124252,\n",
       "       17.96250833, 34.02957268, 18.69627338, 48.1983925 , 36.89706334,\n",
       "       49.97126476, 16.05720009, 41.86309335, 33.60518557, 27.4434606 ,\n",
       "       37.42629178, 38.37966469, 22.16796966, 32.35156449, 48.10614655,\n",
       "       33.76431151, 56.7878884 , 45.04584859, 26.68712313, 40.24521904,\n",
       "       20.14667776, 54.44356134, 33.5205151 , 24.41712842, 24.44971984,\n",
       "       30.90577202, 39.90529789, 57.362886  , 30.82827595])"
      ]
     },
     "execution_count": 9,
     "metadata": {},
     "output_type": "execute_result"
    }
   ],
   "source": [
    "#Make Prediction\n",
    "y_pred = regressor.predict(X_test)\n",
    "y_pred"
   ]
  },
  {
   "cell_type": "code",
   "execution_count": 10,
   "id": "8f3e554f-db97-4666-bb81-13a3e9a0e887",
   "metadata": {},
   "outputs": [
    {
     "name": "stdout",
     "output_type": "stream",
     "text": [
      "0.6066065614459981\n"
     ]
    }
   ],
   "source": [
    "lr=Ridge()\n",
    "\n",
    "\n",
    "# kfold=StratifiedKFold(n_splits=5,shuffle=True,random_state=24) #ONLY TO BE USED WITH BINARY OR MULTICLASS\n",
    "\n",
    "kfold=KFold(n_splits=5,shuffle=True,random_state=24)\n",
    "\n",
    "#scoring by accuracy\n",
    "results= cross_val_score(lr,X,y,cv=kfold)\n",
    "print(results.mean())\n",
    "# scoring by ROC AUC\n",
    "# results= cross_val_score(lr,X,y,cv=kfold,scoring='roc_auc')\n",
    "# print(results.mean())"
   ]
  },
  {
   "cell_type": "code",
   "execution_count": 11,
   "id": "699bc230-3040-4fda-a468-23a9a4914d25",
   "metadata": {},
   "outputs": [
    {
     "data": {
      "text/plain": [
       "0.5771749099675625"
      ]
     },
     "execution_count": 11,
     "metadata": {},
     "output_type": "execute_result"
    }
   ],
   "source": [
    "r2_score(y_test,y_pred)"
   ]
  },
  {
   "cell_type": "code",
   "execution_count": 14,
   "id": "f77cbdad-cc51-4522-8c0b-5f97daa9d29b",
   "metadata": {},
   "outputs": [
    {
     "name": "stdout",
     "output_type": "stream",
     "text": [
      "Best alpha:  43.59030769230769\n"
     ]
    }
   ],
   "source": [
    "import numpy as np\n",
    "kfold=KFold(n_splits=5,shuffle=True,random_state=24)\n",
    "lambdas = np.linspace(0.001,100,40)\n",
    "scores = []\n",
    "\n",
    "for i in lambdas:\n",
    "    ridge = Ridge(alpha=i)\n",
    "    results = cross_val_score(ridge,X,y,cv=kfold)\n",
    "    scores.append(results.mean())\n",
    "\n",
    "i_max = np.argmax(scores)\n",
    "print('Best alpha: ', lambdas[i_max])"
   ]
  },
  {
   "cell_type": "code",
   "execution_count": 17,
   "id": "1619d495-1a7e-4eaa-bb6e-fa4119fb3d76",
   "metadata": {},
   "outputs": [
    {
     "name": "stdout",
     "output_type": "stream",
     "text": [
      "{'alpha': 43.59030769230769}\n",
      "0.6066066097409971\n"
     ]
    }
   ],
   "source": [
    "#Gives the same result as the above code but with simpler code\n",
    "\n",
    "from sklearn.model_selection import GridSearchCV\n",
    "params = {'alpha': np.linspace(0.001, 100,40)}\n",
    "gcv = GridSearchCV(ridge, param_grid = params, cv=kfold)\n",
    "gcv.fit(X,y)\n",
    "\n",
    "print(gcv.best_params_)\n",
    "print(gcv.best_score_)"
   ]
  },
  {
   "cell_type": "code",
   "execution_count": null,
   "id": "a582d9ed-a104-47aa-aeb7-67d80edf5885",
   "metadata": {},
   "outputs": [],
   "source": []
  }
 ],
 "metadata": {
  "kernelspec": {
   "display_name": "Python 3 (ipykernel)",
   "language": "python",
   "name": "python3"
  },
  "language_info": {
   "codemirror_mode": {
    "name": "ipython",
    "version": 3
   },
   "file_extension": ".py",
   "mimetype": "text/x-python",
   "name": "python",
   "nbconvert_exporter": "python",
   "pygments_lexer": "ipython3",
   "version": "3.11.8"
  }
 },
 "nbformat": 4,
 "nbformat_minor": 5
}

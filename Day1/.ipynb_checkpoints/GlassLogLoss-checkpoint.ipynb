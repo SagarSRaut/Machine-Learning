{
 "cells": [
  {
   "cell_type": "code",
   "execution_count": 22,
   "id": "c2ab72fc-a0f3-4985-bdf3-9d02d2ab4c96",
   "metadata": {},
   "outputs": [
    {
     "name": "stdout",
     "output_type": "stream",
     "text": [
      "['building_windows_float_processed' 'building_windows_non_float_processed'\n",
      " 'containers' 'headlamps' 'tableware' 'vehicle_windows_float_processed']\n",
      "[[ 9  3  0  0  0  9]\n",
      " [10  6  1  0  0  6]\n",
      " [ 0  4  0  0  0  0]\n",
      " [ 1  0  0  8  0  0]\n",
      " [ 0  0  0  2  1  0]\n",
      " [ 2  0  0  0  1  2]]\n",
      "              precision    recall  f1-score   support\n",
      "\n",
      "           0       0.41      0.43      0.42        21\n",
      "           1       0.46      0.26      0.33        23\n",
      "           2       0.00      0.00      0.00         4\n",
      "           3       0.80      0.89      0.84         9\n",
      "           4       0.50      0.33      0.40         3\n",
      "           5       0.12      0.40      0.18         5\n",
      "\n",
      "    accuracy                           0.40        65\n",
      "   macro avg       0.38      0.39      0.36        65\n",
      "weighted avg       0.44      0.40      0.40        65\n",
      "\n",
      "0.4\n"
     ]
    },
    {
     "data": {
      "text/plain": [
       "(65, 6)"
      ]
     },
     "execution_count": 22,
     "metadata": {},
     "output_type": "execute_result"
    }
   ],
   "source": [
    "import pandas as pd\n",
    "from sklearn.model_selection import train_test_split \n",
    "from sklearn.metrics import confusion_matrix, classification_report\n",
    "from sklearn.metrics import accuracy_score\n",
    "from sklearn.naive_bayes import GaussianNB\n",
    "from sklearn.preprocessing import LabelEncoder\n",
    "\n",
    "\n",
    "glass = pd.read_csv(r'C:\\Users\\Administrator.DAI-PC2\\Desktop\\jupiter_demo\\ML\\Cases-20240426T111123Z-001\\Cases\\Glass Identification\\Glass.csv')\n",
    "le = LabelEncoder()\n",
    "y = le.fit_transform(glass['Type'])\n",
    "X = glass.drop(['Type'], axis=1)\n",
    "print(le.classes_)\n",
    "\n",
    "#Create training and testing tests\n",
    "X_train, X_test, y_train, y_test = train_test_split(X, y, \n",
    "                                                    test_size = 0.3, \n",
    "                                                    random_state=2021,\n",
    "                                                    stratify=y)\n",
    "\n",
    "gaussian = GaussianNB()\n",
    "gaussian.fit(X_train, y_train)\n",
    "y_pred = gaussian.predict(X_test)\n",
    "y_pred_prob = gaussian.predict_proba(X_test)\n",
    "############## Model Evaluation ##############\n",
    "print(confusion_matrix(y_test, y_pred))\n",
    "print(classification_report(y_test, y_pred))\n",
    "print(accuracy_score(y_test, y_pred))\n",
    "\n",
    "##############################################\n",
    "\n",
    "from sklearn.metrics import log_loss\n",
    "\n",
    "# Compute predicted probabilities: y_pred_prob\n",
    "# y_probs = gaussian.predict_proba(X_test)\n",
    "y_pred_prob.shape"
   ]
  },
  {
   "cell_type": "code",
   "execution_count": 23,
   "id": "d1c081ad-53d8-4e00-89db-2e0fb687115f",
   "metadata": {},
   "outputs": [
    {
     "name": "stdout",
     "output_type": "stream",
     "text": [
      "Log loss is:  3.672173852824592\n"
     ]
    }
   ],
   "source": [
    "print('Log loss is: ',log_loss(y_test, y_pred_prob))"
   ]
  },
  {
   "cell_type": "code",
   "execution_count": 26,
   "id": "ba1b3c0e-3f0d-4d3c-9531-32dd89c57fef",
   "metadata": {},
   "outputs": [
    {
     "name": "stdout",
     "output_type": "stream",
     "text": [
      "['building_windows_float_processed' 'building_windows_non_float_processed'\n",
      " 'containers' 'headlamps' 'tableware' 'vehicle_windows_float_processed']\n",
      "[[15  6  0  0  0  0]\n",
      " [ 8 14  0  0  1  0]\n",
      " [ 0  4  0  0  0  0]\n",
      " [ 1  0  0  8  0  0]\n",
      " [ 0  1  0  2  0  0]\n",
      " [ 2  3  0  0  0  0]]\n",
      "              precision    recall  f1-score   support\n",
      "\n",
      "           0       0.58      0.71      0.64        21\n",
      "           1       0.50      0.61      0.55        23\n",
      "           2       0.00      0.00      0.00         4\n",
      "           3       0.80      0.89      0.84         9\n",
      "           4       0.00      0.00      0.00         3\n",
      "           5       0.00      0.00      0.00         5\n",
      "\n",
      "    accuracy                           0.57        65\n",
      "   macro avg       0.31      0.37      0.34        65\n",
      "weighted avg       0.47      0.57      0.52        65\n",
      "\n",
      "0.5692307692307692\n"
     ]
    },
    {
     "name": "stderr",
     "output_type": "stream",
     "text": [
      "C:\\Users\\Administrator.DAI-PC2\\anaconda3\\Lib\\site-packages\\sklearn\\linear_model\\_logistic.py:460: ConvergenceWarning: lbfgs failed to converge (status=1):\n",
      "STOP: TOTAL NO. of ITERATIONS REACHED LIMIT.\n",
      "\n",
      "Increase the number of iterations (max_iter) or scale the data as shown in:\n",
      "    https://scikit-learn.org/stable/modules/preprocessing.html\n",
      "Please also refer to the documentation for alternative solver options:\n",
      "    https://scikit-learn.org/stable/modules/linear_model.html#logistic-regression\n",
      "  n_iter_i = _check_optimize_result(\n",
      "C:\\Users\\Administrator.DAI-PC2\\anaconda3\\Lib\\site-packages\\sklearn\\metrics\\_classification.py:1469: UndefinedMetricWarning: Precision and F-score are ill-defined and being set to 0.0 in labels with no predicted samples. Use `zero_division` parameter to control this behavior.\n",
      "  _warn_prf(average, modifier, msg_start, len(result))\n",
      "C:\\Users\\Administrator.DAI-PC2\\anaconda3\\Lib\\site-packages\\sklearn\\metrics\\_classification.py:1469: UndefinedMetricWarning: Precision and F-score are ill-defined and being set to 0.0 in labels with no predicted samples. Use `zero_division` parameter to control this behavior.\n",
      "  _warn_prf(average, modifier, msg_start, len(result))\n",
      "C:\\Users\\Administrator.DAI-PC2\\anaconda3\\Lib\\site-packages\\sklearn\\metrics\\_classification.py:1469: UndefinedMetricWarning: Precision and F-score are ill-defined and being set to 0.0 in labels with no predicted samples. Use `zero_division` parameter to control this behavior.\n",
      "  _warn_prf(average, modifier, msg_start, len(result))\n"
     ]
    }
   ],
   "source": [
    "import pandas as pd\n",
    "from sklearn.model_selection import train_test_split \n",
    "from sklearn.metrics import confusion_matrix, classification_report\n",
    "from sklearn.metrics import accuracy_score\n",
    "# from sklearn.naive_bayes import GaussianNB\n",
    "from sklearn.preprocessing import LabelEncoder\n",
    "from sklearn.linear_model import LogisticRegression\n",
    "\n",
    "\n",
    "glass = pd.read_csv(r'C:\\Users\\Administrator.DAI-PC2\\Desktop\\jupiter_demo\\ML\\Cases-20240426T111123Z-001\\Cases\\Glass Identification\\Glass.csv')\n",
    "le = LabelEncoder()\n",
    "y = le.fit_transform(glass['Type'])\n",
    "X = glass.drop(['Type'], axis=1)\n",
    "print(le.classes_)\n",
    "\n",
    "#Create training and testing tests\n",
    "X_train, X_test, y_train, y_test = train_test_split(X, y, \n",
    "                                                    test_size = 0.3, \n",
    "                                                    random_state=2021,\n",
    "                                                    stratify=y)\n",
    "\n",
    "lr = LogisticRegression()\n",
    "lr.fit(X_train, y_train)\n",
    "y_pred = lr.predict(X_test)\n",
    "y_pred_prob = lr.predict_proba(X_test)\n",
    "############## Model Evaluation ##############\n",
    "print(confusion_matrix(y_test, y_pred))\n",
    "print(classification_report(y_test, y_pred))\n",
    "print(accuracy_score(y_test, y_pred))"
   ]
  },
  {
   "cell_type": "code",
   "execution_count": 24,
   "id": "3abdf811-a2ae-45bf-a79b-990e728cb386",
   "metadata": {},
   "outputs": [
    {
     "data": {
      "text/plain": [
       "(65, 6)"
      ]
     },
     "execution_count": 24,
     "metadata": {},
     "output_type": "execute_result"
    }
   ],
   "source": [
    "from sklearn.metrics import log_loss\n",
    "\n",
    "# Compute predicted probabilities: y_pred_prob\n",
    "# y_probs = gaussian.predict_proba(X_test)\n",
    "y_pred_prob.shape"
   ]
  },
  {
   "cell_type": "code",
   "execution_count": 25,
   "id": "e547e01c-9ce5-44a1-a119-e3d5ec3c8eb8",
   "metadata": {},
   "outputs": [
    {
     "name": "stdout",
     "output_type": "stream",
     "text": [
      "Log loss is:  3.672173852824592\n"
     ]
    }
   ],
   "source": [
    "# Generate ROC curve values: fpr, tpr, thresholds\n",
    "# fpr, tpr, thresholds = roc_curve(y_test, y_pred_prob)\n",
    "\n",
    "# Plot ROC curve\n",
    "# import matplotlib.pyplot as plt\n",
    "# plt.plot([0, 1], [0, 1], 'k--')\n",
    "# plt.plot(fpr, tpr)\n",
    "# plt.xlabel('False Positive Rate')\n",
    "# plt.ylabel('True Positive Rate')\n",
    "# plt.title('ROC Curve')\n",
    "# plt.show()\n",
    "\n",
    "# print(roc_auc_score(y_test, y_pred_prob))\n",
    "print('Log loss is: ',log_loss(y_test, y_pred_prob))"
   ]
  },
  {
   "cell_type": "code",
   "execution_count": null,
   "id": "0648e8d5-3706-43d4-b3ef-cf42b0639b05",
   "metadata": {},
   "outputs": [],
   "source": []
  }
 ],
 "metadata": {
  "kernelspec": {
   "display_name": "Python 3 (ipykernel)",
   "language": "python",
   "name": "python3"
  },
  "language_info": {
   "codemirror_mode": {
    "name": "ipython",
    "version": 3
   },
   "file_extension": ".py",
   "mimetype": "text/x-python",
   "name": "python",
   "nbconvert_exporter": "python",
   "pygments_lexer": "ipython3",
   "version": "3.11.8"
  }
 },
 "nbformat": 4,
 "nbformat_minor": 5
}

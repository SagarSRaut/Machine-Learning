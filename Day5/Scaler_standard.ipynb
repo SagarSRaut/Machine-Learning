{
 "cells": [
  {
   "cell_type": "code",
   "execution_count": 40,
   "id": "73ec176d-a578-491d-9eba-f14dd50b3b55",
   "metadata": {},
   "outputs": [],
   "source": [
    "import pandas as pd\n",
    "import numpy as np\n",
    "from sklearn.model_selection import train_test_split \n",
    "from sklearn.metrics import confusion_matrix, classification_report\n",
    "from sklearn.metrics import accuracy_score, r2_score, roc_auc_score, log_loss\n",
    "from sklearn.naive_bayes import GaussianNB\n",
    "from sklearn.preprocessing import LabelEncoder , StandardScaler,MinMaxScaler\n",
    "from sklearn.model_selection import StratifiedKFold, cross_val_score\n",
    "from sklearn.model_selection import train_test_split,GridSearchCV\n",
    "from sklearn.linear_model import LinearRegression, Ridge,ElasticNet, LogisticRegression\n",
    "from sklearn.model_selection import KFold\n",
    "from sklearn.neighbors import KNeighborsClassifier,KNeighborsRegressor \n",
    "from sklearn.pipeline import Pipeline\n",
    "\n",
    "import warnings\n",
    "warnings.filterwarnings('ignore')"
   ]
  },
  {
   "cell_type": "code",
   "execution_count": 46,
   "id": "9c356db7-eb31-4c8b-aefe-2099d6109f82",
   "metadata": {},
   "outputs": [
    {
     "name": "stdout",
     "output_type": "stream",
     "text": [
      "-0.5350877192982455\n"
     ]
    }
   ],
   "source": [
    "kyp= pd.read_csv(r'C:\\Users\\Administrator.DAI-PC2\\Desktop\\jupiter_demo\\ML\\Cases-20240426T111123Z-001\\Cases\\Kyphosis\\Kyphosis.csv')\n",
    "knnC= KNeighborsClassifier(n_neighbors=5)\n",
    "\n",
    "le = LabelEncoder()\n",
    "y=le.fit_transform(kyp['Kyphosis'])\n",
    "X = kyp.drop('Kyphosis',axis=1)\n",
    "X_train,X_test,y_train,y_test = train_test_split(X,y,test_size=0.3,random_state=24)\n",
    " \n",
    "\n",
    "knn.fit(X_train,y_train)\n",
    "y_pred= knn.predict(X_test)\n",
    "y_pred_prob=knn.predict_proba(X_test)\n",
    "print(r2_score(y_test,y_pred))"
   ]
  },
  {
   "cell_type": "code",
   "execution_count": 47,
   "id": "9d9d9583-61c0-436e-a09b-6431d8e39a3f",
   "metadata": {},
   "outputs": [
    {
     "name": "stdout",
     "output_type": "stream",
     "text": [
      "0.72\n",
      "0.6491228070175439\n",
      "1.857105559203503\n"
     ]
    }
   ],
   "source": [
    "print(accuracy_score(y_test,y_pred))\n",
    "print(roc_auc_score(y_test,y_pred_prob[:,1]))\n",
    "print(log_loss(y_test,y_pred_prob))"
   ]
  },
  {
   "cell_type": "code",
   "execution_count": 49,
   "id": "b827a9cc-c352-4ddb-ba60-bde5b2107507",
   "metadata": {},
   "outputs": [
    {
     "name": "stdout",
     "output_type": "stream",
     "text": [
      "0.76\n",
      "0.5921052631578947\n",
      "4.619257924577498\n"
     ]
    }
   ],
   "source": [
    "###### standard ###########\n",
    "knnC = KNeighborsClassifier(n_neighbors=3)\n",
    "\n",
    "std_scaler= StandardScaler()\n",
    "pipe_std=Pipeline([('SCL',std_scaler),('KNN',knn)])\n",
    "knnC.fit(X_train,y_train)\n",
    "y_pred=knnC.predict(X_test)\n",
    "\n",
    "y_pred_prob = knnC.predict_proba(X_test)\n",
    "print(accuracy_score(y_test,y_pred))\n",
    "print(roc_auc_score(y_test,y_pred_prob[:,1]))\n",
    "print(log_loss(y_test,y_pred_prob))"
   ]
  },
  {
   "cell_type": "code",
   "execution_count": 41,
   "id": "79ffd394-0654-4fb6-a5b9-65ab0ab28172",
   "metadata": {},
   "outputs": [
    {
     "name": "stdout",
     "output_type": "stream",
     "text": [
      "{'KNN__n_neighbors': 9, 'SCL': MinMaxScaler()}\n",
      "-0.3541342613432673\n"
     ]
    }
   ],
   "source": [
    "##################### Grid Search #################\n",
    "kfold=StratifiedKFold(n_splits=5,shuffle=True,random_state=24)\n",
    "std_scaler=StandardScaler()\n",
    "mm_scaler= MinMaxScaler()\n",
    "knn= KNeighborsClassifier()\n",
    "pipe=Pipeline([('SCL',None),('KNN',knn)])\n",
    "params={'KNN__n_neighbors':[1,2,3,4,5,6,7,8,9,10],'SCL':[std_scaler,mm_scaler,None]}\n",
    "\n",
    "gcv= GridSearchCV(pipe,param_grid=params,cv=kfold,scoring='neg_log_loss')\n",
    "gcv.fit(X,y)\n",
    "print(gcv.best_params_)\n",
    "print(gcv.best_score_)"
   ]
  },
  {
   "cell_type": "code",
   "execution_count": 50,
   "id": "76495c75-7503-43ac-9be6-21c7e74b098f",
   "metadata": {},
   "outputs": [
    {
     "name": "stdout",
     "output_type": "stream",
     "text": [
      "{'KNN__n_neighbors': 9, 'SCL': MinMaxScaler()}\n",
      "-0.3541342613432673\n"
     ]
    }
   ],
   "source": [
    "############# Min Max Scaler ################\n",
    "mm_scaler = MinMaxScaler()\n",
    "kfold=StratifiedKFold(n_splits=5,shuffle=True,random_state=24)\n",
    "mm_scaler=StandardScaler()\n",
    "mm_scaler= MinMaxScaler()\n",
    "knn= KNeighborsClassifier()\n",
    "pipe=Pipeline([('SCL',None),('KNN',knn)])\n",
    "params={'KNN__n_neighbors':[1,2,3,4,5,6,7,8,9,10],'SCL':[mm_scaler,mm_scaler,None]}\n",
    "\n",
    "gcv= GridSearchCV(pipe,param_grid=params,cv=kfold,scoring='neg_log_loss')\n",
    "gcv.fit(X,y)\n",
    "print(gcv.best_params_)\n",
    "print(gcv.best_score_)"
   ]
  },
  {
   "cell_type": "code",
   "execution_count": null,
   "id": "6ce8847d-892c-4905-a7a2-dfb4f807d729",
   "metadata": {},
   "outputs": [],
   "source": []
  }
 ],
 "metadata": {
  "kernelspec": {
   "display_name": "Python 3 (ipykernel)",
   "language": "python",
   "name": "python3"
  },
  "language_info": {
   "codemirror_mode": {
    "name": "ipython",
    "version": 3
   },
   "file_extension": ".py",
   "mimetype": "text/x-python",
   "name": "python",
   "nbconvert_exporter": "python",
   "pygments_lexer": "ipython3",
   "version": "3.11.8"
  }
 },
 "nbformat": 4,
 "nbformat_minor": 5
}

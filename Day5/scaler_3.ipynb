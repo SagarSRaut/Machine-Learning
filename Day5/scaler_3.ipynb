{
 "cells": [
  {
   "cell_type": "code",
   "execution_count": 1,
   "id": "ae9e0272-c73b-416b-a33b-20bae8584403",
   "metadata": {},
   "outputs": [],
   "source": [
    "import pandas as pd\n",
    "import numpy as np\n",
    "from sklearn.model_selection import train_test_split \n",
    "from sklearn.metrics import confusion_matrix, classification_report\n",
    "from sklearn.metrics import accuracy_score, r2_score, roc_auc_score, log_loss\n",
    "from sklearn.naive_bayes import GaussianNB\n",
    "from sklearn.preprocessing import LabelEncoder , StandardScaler,MinMaxScaler\n",
    "from sklearn.model_selection import StratifiedKFold, cross_val_score\n",
    "from sklearn.model_selection import train_test_split,GridSearchCV\n",
    "from sklearn.linear_model import LinearRegression, Ridge,ElasticNet, LogisticRegression\n",
    "from sklearn.model_selection import KFold\n",
    "from sklearn.neighbors import KNeighborsClassifier,KNeighborsRegressor \n",
    "from sklearn.pipeline import Pipeline\n",
    "\n",
    "import warnings\n",
    "warnings.filterwarnings('ignore')\n"
   ]
  },
  {
   "cell_type": "code",
   "execution_count": 2,
   "id": "62f46e79-8b2e-4f7e-a80f-6004f19842d4",
   "metadata": {},
   "outputs": [],
   "source": [
    "boston = pd.read_csv(r'C:\\Users\\Administrator.DAI-PC2\\Desktop\\jupiter_demo\\ML\\Datasets-20240429T030248Z-001\\Datasets\\Boston.csv')\n",
    "boston.head()\n",
    "X = boston.drop('medv',axis=1)\n",
    "y = boston['medv']"
   ]
  },
  {
   "cell_type": "code",
   "execution_count": 7,
   "id": "40aa8978-ca51-4bb8-a302-2d6cd1d94488",
   "metadata": {},
   "outputs": [
    {
     "name": "stdout",
     "output_type": "stream",
     "text": [
      "{'KNN__n_neighbors': 3, 'SCL': StandardScaler()}\n",
      "0.7666263304880155\n"
     ]
    }
   ],
   "source": [
    "##### Grid Search #############\n",
    "kfold=KFold(n_splits=5,shuffle=True,random_state=24)\n",
    "knn = KNeighborsRegressor(n_neighbors=5)\n",
    "std_scaler=StandardScaler()\n",
    "mm_scaler=MinMaxScaler()\n",
    "pipe = Pipeline([('SCL',None),('KNN',knn)])\n",
    "params = {'KNN__n_neighbors':[1,2,3,4,5,6,7,8,9,10],'SCL':[None,std_scaler,mm_scaler]}\n",
    "gcv=GridSearchCV(pipe,param_grid=params,cv=kfold,scoring='r2')\n",
    "gcv.fit(X,y)\n",
    "print(gcv.best_params_)\n",
    "print(gcv.best_score_)\n"
   ]
  },
  {
   "cell_type": "code",
   "execution_count": null,
   "id": "68b34811-416f-48c5-963d-b718c0473224",
   "metadata": {},
   "outputs": [],
   "source": []
  },
  {
   "cell_type": "code",
   "execution_count": null,
   "id": "2ef6702f-ceca-48d4-92e1-dc1108fd6641",
   "metadata": {},
   "outputs": [],
   "source": [
    "\n",
    ","
   ]
  },
  {
   "cell_type": "code",
   "execution_count": null,
   "id": "20d43da1-ed49-4690-81ad-c29439fa575b",
   "metadata": {},
   "outputs": [],
   "source": []
  }
 ],
 "metadata": {
  "kernelspec": {
   "display_name": "Python 3 (ipykernel)",
   "language": "python",
   "name": "python3"
  },
  "language_info": {
   "codemirror_mode": {
    "name": "ipython",
    "version": 3
   },
   "file_extension": ".py",
   "mimetype": "text/x-python",
   "name": "python",
   "nbconvert_exporter": "python",
   "pygments_lexer": "ipython3",
   "version": "3.11.8"
  }
 },
 "nbformat": 4,
 "nbformat_minor": 5
}

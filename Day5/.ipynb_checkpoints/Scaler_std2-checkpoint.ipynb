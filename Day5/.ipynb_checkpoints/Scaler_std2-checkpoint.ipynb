{
 "cells": [
  {
   "cell_type": "code",
   "execution_count": 11,
   "id": "058d1ab6-aebf-4d4c-9d5b-400b5e390dac",
   "metadata": {},
   "outputs": [],
   "source": [
    "from sklearn.preprocessing import StandardScaler,MinMaxScaler\n",
    "import pandas as pd\n",
    "import numpy as np\n"
   ]
  },
  {
   "cell_type": "code",
   "execution_count": 7,
   "id": "f414d8c8-a632-45c7-87b2-d19abcea4850",
   "metadata": {},
   "outputs": [
    {
     "name": "stdout",
     "output_type": "stream",
     "text": [
      "[10.   0.3]\n"
     ]
    }
   ],
   "source": [
    "a=pd.DataFrame({'x1':[10,9,11],'x2':[0.1,0.7,0.1]})\n",
    "scl_std=StandardScaler()\n",
    "scl_std.fit(a)\n",
    "print(scl_std.mean_)\n"
   ]
  },
  {
   "cell_type": "code",
   "execution_count": 8,
   "id": "54aabf73-9927-409e-a982-1e4e621ac936",
   "metadata": {},
   "outputs": [
    {
     "name": "stdout",
     "output_type": "stream",
     "text": [
      "[0.81649658 0.28284271]\n"
     ]
    }
   ],
   "source": [
    "print(scl_std.scale_)"
   ]
  },
  {
   "cell_type": "code",
   "execution_count": 9,
   "id": "d71f32b9-3697-46ab-9040-1f0205e2638f",
   "metadata": {},
   "outputs": [
    {
     "data": {
      "text/plain": [
       "array([[ 0.        , -0.70710678],\n",
       "       [-1.22474487,  1.41421356],\n",
       "       [ 1.22474487, -0.70710678]])"
      ]
     },
     "execution_count": 9,
     "metadata": {},
     "output_type": "execute_result"
    }
   ],
   "source": [
    "scl_std.transform(a)"
   ]
  },
  {
   "cell_type": "code",
   "execution_count": 13,
   "id": "d7f06d17-66e8-43bb-bbbb-231da5990019",
   "metadata": {},
   "outputs": [
    {
     "name": "stdout",
     "output_type": "stream",
     "text": [
      "[9.  0.1]\n",
      "[11.   0.7]\n"
     ]
    },
    {
     "data": {
      "text/plain": [
       "array([[0.5, 0. ],\n",
       "       [0. , 1. ],\n",
       "       [1. , 0. ]])"
      ]
     },
     "execution_count": 13,
     "metadata": {},
     "output_type": "execute_result"
    }
   ],
   "source": [
    "scl_mm =MinMaxScaler()\n",
    "scl_mm.fit(a)\n",
    "print(scl_mm.data_min_)\n",
    "print(scl_mm.data_max_)\n",
    "scl_mm.transform(a)\n"
   ]
  },
  {
   "cell_type": "code",
   "execution_count": null,
   "id": "5f2a543a-1667-4807-b573-44dd0995b816",
   "metadata": {},
   "outputs": [],
   "source": []
  }
 ],
 "metadata": {
  "kernelspec": {
   "display_name": "Python 3 (ipykernel)",
   "language": "python",
   "name": "python3"
  },
  "language_info": {
   "codemirror_mode": {
    "name": "ipython",
    "version": 3
   },
   "file_extension": ".py",
   "mimetype": "text/x-python",
   "name": "python",
   "nbconvert_exporter": "python",
   "pygments_lexer": "ipython3",
   "version": "3.11.8"
  }
 },
 "nbformat": 4,
 "nbformat_minor": 5
}

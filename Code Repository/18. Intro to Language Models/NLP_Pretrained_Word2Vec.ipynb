{
  "nbformat": 4,
  "nbformat_minor": 0,
  "metadata": {
    "colab": {
      "provenance": []
    },
    "kernelspec": {
      "name": "python3",
      "display_name": "Python 3"
    }
  },
  "cells": [
    {
      "cell_type": "code",
      "metadata": {
        "colab": {
          "base_uri": "https://localhost:8080/"
        },
        "id": "pj1HF1t38_sD",
        "outputId": "3cb1576b-7599-4fe5-a4a0-bccdb4c93bdb"
      },
      "source": [
        "from google.colab import drive\n",
        "drive.mount('/content/drive')"
      ],
      "execution_count": null,
      "outputs": [
        {
          "output_type": "stream",
          "name": "stdout",
          "text": [
            "Mounted at /content/drive\n"
          ]
        }
      ]
    },
    {
      "cell_type": "code",
      "source": [
        "!pip install gensim"
      ],
      "metadata": {
        "colab": {
          "base_uri": "https://localhost:8080/"
        },
        "id": "q7bLIT4wgadG",
        "outputId": "0eaf2dbf-22af-4d21-f127-0ee6b44d9545"
      },
      "execution_count": null,
      "outputs": [
        {
          "output_type": "stream",
          "name": "stdout",
          "text": [
            "Requirement already satisfied: gensim in /usr/local/lib/python3.10/dist-packages (4.3.2)\n",
            "Requirement already satisfied: numpy>=1.18.5 in /usr/local/lib/python3.10/dist-packages (from gensim) (1.25.2)\n",
            "Requirement already satisfied: scipy>=1.7.0 in /usr/local/lib/python3.10/dist-packages (from gensim) (1.11.4)\n",
            "Requirement already satisfied: smart-open>=1.8.1 in /usr/local/lib/python3.10/dist-packages (from gensim) (6.4.0)\n"
          ]
        }
      ]
    },
    {
      "cell_type": "code",
      "metadata": {
        "id": "Rfqpb_6Xu2-o"
      },
      "source": [
        "import os\n",
        "os.chdir(\"/content/drive/My Drive/NLP\")"
      ],
      "execution_count": null,
      "outputs": []
    },
    {
      "cell_type": "code",
      "metadata": {
        "id": "GmRLoN6kSD3C"
      },
      "source": [
        "from gensim.models import KeyedVectors\n",
        "filename = 'GoogleNews-vectors-negative300.bin'\n",
        "model = KeyedVectors.load_word2vec_format(filename, binary=True)"
      ],
      "execution_count": null,
      "outputs": []
    },
    {
      "cell_type": "code",
      "metadata": {
        "id": "DEAHpVhH6kdQ",
        "colab": {
          "base_uri": "https://localhost:8080/",
          "height": 185
        },
        "outputId": "3700178e-1659-400c-ea42-ebaef32e46f4"
      },
      "source": [
        "type(model)"
      ],
      "execution_count": null,
      "outputs": [
        {
          "output_type": "execute_result",
          "data": {
            "text/plain": [
              "gensim.models.keyedvectors.KeyedVectors"
            ],
            "text/html": [
              "<div style=\"max-width:800px; border: 1px solid var(--colab-border-color);\"><style>\n",
              "      pre.function-repr-contents {\n",
              "        overflow-x: auto;\n",
              "        padding: 8px 12px;\n",
              "        max-height: 500px;\n",
              "      }\n",
              "\n",
              "      pre.function-repr-contents.function-repr-contents-collapsed {\n",
              "        cursor: pointer;\n",
              "        max-height: 100px;\n",
              "      }\n",
              "    </style>\n",
              "    <pre style=\"white-space: initial; background:\n",
              "         var(--colab-secondary-surface-color); padding: 8px 12px;\n",
              "         border-bottom: 1px solid var(--colab-border-color);\"><b>gensim.models.keyedvectors.KeyedVectors</b><br/>def __init__(vector_size, count=0, dtype=np.float32, mapfile_path=None)</pre><pre class=\"function-repr-contents function-repr-contents-collapsed\" style=\"\"><a class=\"filepath\" style=\"display:none\" href=\"#\">/usr/local/lib/python3.10/dist-packages/gensim/models/keyedvectors.py</a>Serialize/deserialize objects from disk, by equipping them with the `save()` / `load()` methods.\n",
              "\n",
              "Warnings\n",
              "--------\n",
              "This uses pickle internally (among other techniques), so objects must not contain unpicklable attributes\n",
              "such as lambda functions etc.</pre>\n",
              "      <script>\n",
              "      if (google.colab.kernel.accessAllowed && google.colab.files && google.colab.files.view) {\n",
              "        for (const element of document.querySelectorAll('.filepath')) {\n",
              "          element.style.display = 'block'\n",
              "          element.onclick = (event) => {\n",
              "            event.preventDefault();\n",
              "            event.stopPropagation();\n",
              "            google.colab.files.view(element.textContent, 211);\n",
              "          };\n",
              "        }\n",
              "      }\n",
              "      for (const element of document.querySelectorAll('.function-repr-contents')) {\n",
              "        element.onclick = (event) => {\n",
              "          event.preventDefault();\n",
              "          event.stopPropagation();\n",
              "          element.classList.toggle('function-repr-contents-collapsed');\n",
              "        };\n",
              "      }\n",
              "      </script>\n",
              "      </div>"
            ]
          },
          "metadata": {},
          "execution_count": 5
        }
      ]
    },
    {
      "cell_type": "code",
      "metadata": {
        "id": "TbIdcH6CcPkt",
        "colab": {
          "base_uri": "https://localhost:8080/"
        },
        "outputId": "a6a38298-e769-469b-ac3f-06b139d34b62"
      },
      "source": [
        "result = model.get_vector(\"nation\")\n",
        "print(len(result))"
      ],
      "execution_count": null,
      "outputs": [
        {
          "output_type": "stream",
          "name": "stdout",
          "text": [
            "300\n"
          ]
        }
      ]
    },
    {
      "cell_type": "code",
      "source": [
        "result"
      ],
      "metadata": {
        "id": "jHCpT9M_k1yX"
      },
      "execution_count": null,
      "outputs": []
    },
    {
      "cell_type": "code",
      "source": [
        "result = model.similarity('nation','state')\n",
        "result"
      ],
      "metadata": {
        "id": "vNdhLUOtmaTk",
        "colab": {
          "base_uri": "https://localhost:8080/"
        },
        "outputId": "97e08541-400d-4a5c-c95b-a26aaac5fe8c"
      },
      "execution_count": null,
      "outputs": [
        {
          "output_type": "execute_result",
          "data": {
            "text/plain": [
              "0.4697637"
            ]
          },
          "metadata": {},
          "execution_count": 8
        }
      ]
    },
    {
      "cell_type": "code",
      "source": [
        "result = model.similarity('nation','laptop')\n",
        "result"
      ],
      "metadata": {
        "colab": {
          "base_uri": "https://localhost:8080/"
        },
        "id": "wXQw-poX4-yi",
        "outputId": "63d220d6-3958-4a22-ff3e-2c2652b4da60"
      },
      "execution_count": null,
      "outputs": [
        {
          "output_type": "execute_result",
          "data": {
            "text/plain": [
              "-0.02458621"
            ]
          },
          "metadata": {},
          "execution_count": 9
        }
      ]
    },
    {
      "cell_type": "code",
      "source": [
        "result = model.similarity('laptop','mountain')\n",
        "result"
      ],
      "metadata": {
        "id": "OqVtHEGBmh67",
        "colab": {
          "base_uri": "https://localhost:8080/"
        },
        "outputId": "288b9c7b-294e-45e3-b83d-3fd93a887751"
      },
      "execution_count": null,
      "outputs": [
        {
          "output_type": "execute_result",
          "data": {
            "text/plain": [
              "0.08407753"
            ]
          },
          "metadata": {},
          "execution_count": 10
        }
      ]
    },
    {
      "cell_type": "code",
      "source": [
        "result = model.similarity('hill','mountain')\n",
        "result"
      ],
      "metadata": {
        "id": "su3LH68Nm6Rq",
        "colab": {
          "base_uri": "https://localhost:8080/"
        },
        "outputId": "b5aabb81-471e-437c-ff56-632e762454b8"
      },
      "execution_count": null,
      "outputs": [
        {
          "output_type": "execute_result",
          "data": {
            "text/plain": [
              "0.6287426"
            ]
          },
          "metadata": {},
          "execution_count": 11
        }
      ]
    },
    {
      "cell_type": "code",
      "metadata": {
        "id": "Sb47bEiSksZi",
        "colab": {
          "base_uri": "https://localhost:8080/"
        },
        "outputId": "cb3a953c-0746-422f-fef1-80bc562bfd83"
      },
      "source": [
        "result = model.most_similar('mountain',topn=3)\n",
        "print(result)"
      ],
      "execution_count": null,
      "outputs": [
        {
          "output_type": "stream",
          "name": "stdout",
          "text": [
            "[('mountains', 0.837950587272644), ('mountainside', 0.7189289927482605), ('mountaintop', 0.6948275566101074)]\n"
          ]
        }
      ]
    },
    {
      "cell_type": "code",
      "source": [
        "result = model.most_similar('start',topn=3)\n",
        "print(result)"
      ],
      "metadata": {
        "id": "qmpg02Y6xxGw",
        "colab": {
          "base_uri": "https://localhost:8080/"
        },
        "outputId": "67625ef9-b24e-4b77-d9b3-4989ccec4707"
      },
      "execution_count": null,
      "outputs": [
        {
          "output_type": "stream",
          "name": "stdout",
          "text": [
            "[('begin', 0.685394823551178), ('started', 0.6305932998657227), ('starting', 0.6140077710151672)]\n"
          ]
        }
      ]
    },
    {
      "cell_type": "code",
      "metadata": {
        "id": "ZWNOBOTZVRzx",
        "colab": {
          "base_uri": "https://localhost:8080/"
        },
        "outputId": "29314466-95e5-42ab-a5ee-2c9bb1c51f19"
      },
      "source": [
        "result = model.similarity('reliance','dependence')\n",
        "print(result)"
      ],
      "execution_count": null,
      "outputs": [
        {
          "output_type": "stream",
          "name": "stdout",
          "text": [
            "0.7727579\n"
          ]
        }
      ]
    },
    {
      "cell_type": "code",
      "metadata": {
        "id": "RFbXTjFRlK-d",
        "colab": {
          "base_uri": "https://localhost:8080/"
        },
        "outputId": "765cee32-395a-4fa2-af02-159ce3307eca"
      },
      "source": [
        "result = model.similarity('reliance','independence')\n",
        "print(result)"
      ],
      "execution_count": null,
      "outputs": [
        {
          "output_type": "stream",
          "name": "stdout",
          "text": [
            "0.22009572\n"
          ]
        }
      ]
    },
    {
      "cell_type": "code",
      "metadata": {
        "id": "gCA8l0XylVcM",
        "colab": {
          "base_uri": "https://localhost:8080/"
        },
        "outputId": "d4b9916e-e82b-4597-cf05-855ff4c453c9"
      },
      "source": [
        "result = model.similarity('woman','queen')\n",
        "print(result)"
      ],
      "execution_count": null,
      "outputs": [
        {
          "output_type": "stream",
          "name": "stdout",
          "text": [
            "0.31618136\n"
          ]
        }
      ]
    },
    {
      "cell_type": "code",
      "source": [
        "result = model.similarity('lady','queen')\n",
        "print(result)"
      ],
      "metadata": {
        "colab": {
          "base_uri": "https://localhost:8080/"
        },
        "id": "2xD1MvfYN5vV",
        "outputId": "3b54c36c-6e67-497c-cb0c-07805dc372ff"
      },
      "execution_count": null,
      "outputs": [
        {
          "output_type": "stream",
          "name": "stdout",
          "text": [
            "0.46167657\n"
          ]
        }
      ]
    },
    {
      "cell_type": "code",
      "metadata": {
        "colab": {
          "base_uri": "https://localhost:8080/"
        },
        "id": "Djl2FGpGo-ZU",
        "outputId": "64f4c811-b260-49b7-da93-3d9942b886d5"
      },
      "source": [
        "result = model.similarity('woman','lady')\n",
        "print(result)"
      ],
      "execution_count": null,
      "outputs": [
        {
          "output_type": "stream",
          "name": "stdout",
          "text": [
            "0.62887865\n"
          ]
        }
      ]
    },
    {
      "cell_type": "code",
      "metadata": {
        "id": "9g0IZFX6vDfG",
        "colab": {
          "base_uri": "https://localhost:8080/"
        },
        "outputId": "d0788dc5-9254-4685-f312-f3f5e8241ddf"
      },
      "source": [
        "result = model.most_similar(positive=['woman', 'boy'], negative=['man'], topn=3)\n",
        "print(result)"
      ],
      "execution_count": null,
      "outputs": [
        {
          "output_type": "stream",
          "name": "stdout",
          "text": [
            "[('girl', 0.8881361484527588), ('teenage_girl', 0.7058953642845154), ('mother', 0.6978276968002319)]\n"
          ]
        }
      ]
    },
    {
      "cell_type": "code",
      "metadata": {
        "id": "PUkPmrpqvFA3",
        "colab": {
          "base_uri": "https://localhost:8080/"
        },
        "outputId": "ea7a0dd1-d8e0-4f4b-9a58-1214f86afac7"
      },
      "source": [
        "result = model.most_similar(positive=['woman', 'king'], negative=['man'], topn=5)\n",
        "print(result)"
      ],
      "execution_count": null,
      "outputs": [
        {
          "output_type": "stream",
          "name": "stdout",
          "text": [
            "[('queen', 0.7118193507194519), ('monarch', 0.6189674139022827), ('princess', 0.5902431011199951), ('crown_prince', 0.5499460697174072), ('prince', 0.5377321839332581)]\n"
          ]
        }
      ]
    },
    {
      "cell_type": "code",
      "metadata": {
        "id": "k8MWy1F0X60E",
        "colab": {
          "base_uri": "https://localhost:8080/"
        },
        "outputId": "55a0f380-e851-407a-c67a-6811cc6fdccb"
      },
      "source": [
        "result = model.most_similar(positive=['child', 'cattle'], negative=['human'], topn=1)\n",
        "print(result)"
      ],
      "execution_count": null,
      "outputs": [
        {
          "output_type": "stream",
          "name": "stdout",
          "text": [
            "[('calves', 0.5428146719932556)]\n"
          ]
        }
      ]
    },
    {
      "cell_type": "code",
      "metadata": {
        "id": "mKYsM_YcXBdD",
        "colab": {
          "base_uri": "https://localhost:8080/"
        },
        "outputId": "0c672865-7c34-4d44-f52e-ef495d1625f4"
      },
      "source": [
        "result = model.most_similar('fantastic',topn=3)\n",
        "print(result)"
      ],
      "execution_count": null,
      "outputs": [
        {
          "output_type": "stream",
          "name": "stdout",
          "text": [
            "[('terrific', 0.8317594528198242), ('wonderful', 0.804792046546936), ('great', 0.7935212254524231)]\n"
          ]
        }
      ]
    },
    {
      "cell_type": "code",
      "metadata": {
        "id": "bMYH-V4ZcnHY",
        "colab": {
          "base_uri": "https://localhost:8080/"
        },
        "outputId": "50aa33df-7eec-4f12-c38b-fa559bb993d5"
      },
      "source": [
        "result = model.most_similar('phenomenal',topn=3)\n",
        "print(result)"
      ],
      "execution_count": null,
      "outputs": [
        {
          "output_type": "stream",
          "name": "stdout",
          "text": [
            "[('incredible', 0.7799631953239441), ('amazing', 0.7642048597335815), ('fantastic', 0.7392953038215637)]\n"
          ]
        }
      ]
    },
    {
      "cell_type": "code",
      "metadata": {
        "id": "pkeOTr5BbA37",
        "colab": {
          "base_uri": "https://localhost:8080/"
        },
        "outputId": "28452ee8-1cb1-4fcd-cd32-7c2446288852"
      },
      "source": [
        "result = model.similarity('lunch','dinner')\n",
        "print(result)"
      ],
      "execution_count": null,
      "outputs": [
        {
          "output_type": "stream",
          "name": "stdout",
          "text": [
            "0.68157035\n"
          ]
        }
      ]
    },
    {
      "cell_type": "code",
      "metadata": {
        "id": "Xxtw7tA3bhu1",
        "colab": {
          "base_uri": "https://localhost:8080/"
        },
        "outputId": "9a88ae9f-10c0-479c-8040-69ed263eab30"
      },
      "source": [
        "result = model.similarity('lunch','cook')\n",
        "print(result)"
      ],
      "execution_count": null,
      "outputs": [
        {
          "output_type": "stream",
          "name": "stdout",
          "text": [
            "0.35912475\n"
          ]
        }
      ]
    },
    {
      "cell_type": "code",
      "metadata": {
        "id": "3DPMqRwjiOZE",
        "colab": {
          "base_uri": "https://localhost:8080/"
        },
        "outputId": "a0513c87-0294-4f4c-a464-d21afba16d13"
      },
      "source": [
        "result = model.similarity('soft','hard')\n",
        "print(result)"
      ],
      "execution_count": null,
      "outputs": [
        {
          "output_type": "stream",
          "name": "stdout",
          "text": [
            "0.31624037\n"
          ]
        }
      ]
    },
    {
      "cell_type": "code",
      "metadata": {
        "id": "upgk5PmVjMTT",
        "colab": {
          "base_uri": "https://localhost:8080/"
        },
        "outputId": "fbe57356-bb48-4c7e-b1c6-70c44e1e1195"
      },
      "source": [
        "result = model.similarity('pizza','cheese')\n",
        "print(result)"
      ],
      "execution_count": null,
      "outputs": [
        {
          "output_type": "stream",
          "name": "stdout",
          "text": [
            "0.47083578\n"
          ]
        }
      ]
    },
    {
      "cell_type": "code",
      "metadata": {
        "id": "akk1jMnKZ5FI",
        "colab": {
          "base_uri": "https://localhost:8080/"
        },
        "outputId": "33e8e5cb-97fc-481d-93c8-3562f3111283"
      },
      "source": [
        "result = model.similarity('tiger','cat')\n",
        "print(result)"
      ],
      "execution_count": null,
      "outputs": [
        {
          "output_type": "stream",
          "name": "stdout",
          "text": [
            "0.5172962\n"
          ]
        }
      ]
    }
  ]
}